{
 "cells": [
  {
   "cell_type": "code",
   "execution_count": 1,
   "id": "7546523b",
   "metadata": {},
   "outputs": [],
   "source": [
    "import requests\n",
    "from bs4 import BeautifulSoup\n",
    "import pandas as pd\n",
    "import csv"
   ]
  },
  {
   "cell_type": "code",
   "execution_count": 228,
   "id": "323ae02a",
   "metadata": {},
   "outputs": [],
   "source": [
    "page = requests.get('https://www.tripadvisor.com/Attraction_Review-g53449-d272116-Reviews-or10-Acrisure_Stadium_Tours-Pittsburgh_Pennsylvania.html', headers={'User-Agent': \"Mozilla/5.0\"})"
   ]
  },
  {
   "cell_type": "code",
   "execution_count": 70,
   "id": "722b8553",
   "metadata": {},
   "outputs": [
    {
     "data": {
      "text/plain": [
       "<Response [200]>"
      ]
     },
     "execution_count": 70,
     "metadata": {},
     "output_type": "execute_result"
    }
   ],
   "source": [
    "page"
   ]
  },
  {
   "cell_type": "code",
   "execution_count": 229,
   "id": "6ba19628",
   "metadata": {},
   "outputs": [],
   "source": [
    "soup = BeautifulSoup(page.text, 'html.parser')\n"
   ]
  },
  {
   "cell_type": "code",
   "execution_count": 72,
   "id": "c8bc91ec",
   "metadata": {},
   "outputs": [],
   "source": [
    "title = soup.find('title').contents[0]"
   ]
  },
  {
   "cell_type": "code",
   "execution_count": 73,
   "id": "7f9c6366",
   "metadata": {},
   "outputs": [],
   "source": [
    "rating = soup.find(\"div\", class_=\"biGQs _P fiohW hzzSG uuBRH\").contents[0]"
   ]
  },
  {
   "cell_type": "code",
   "execution_count": 74,
   "id": "c0cb3624",
   "metadata": {},
   "outputs": [],
   "source": [
    "num_review = soup.find('span', {'class':\"yyzcQ\"}).contents[0]"
   ]
  },
  {
   "cell_type": "code",
   "execution_count": 75,
   "id": "49b84c64",
   "metadata": {},
   "outputs": [],
   "source": [
    "d = soup.find(\"div\", class_=\"LbPSX\")"
   ]
  },
  {
   "cell_type": "code",
   "execution_count": 80,
   "id": "55b3cca5",
   "metadata": {},
   "outputs": [],
   "source": [
    "review = d.find_all(\"span\", class_=\"yCeTE\")[0].contents[0]"
   ]
  },
  {
   "cell_type": "markdown",
   "id": "fd875a7e",
   "metadata": {
    "jupyter": {
     "source_hidden": true
    }
   },
   "source": [
    "<div class=\"_T FKffI\"><div class=\"fIrGe _T bgMZj\" style=\"line-break: normal; cursor: auto;\"><div class=\"biGQs _P pZUbB KxBGd\"><span class=\"yCeTE\">I watched the Steelers win the game against the Browns 28-14 and it was an incredible game experience! But personally I'm still calling this place Heinz Field.</span></div></div><div class=\"lszDU\" style=\"line-height: 22px;\"><button class=\"UikNM _G B- _S _T c G_ P0 wSSLS wnNQG\" type=\"button\"><span class=\"biGQs _P XWJSj Wb\">Read more</span><div class=\"CECjK\"><svg viewBox=\"0 0 25 24\" width=\"20px\" height=\"20px\" class=\"d Vb UmNoP\"><path fill-rule=\"evenodd\" clip-rule=\"evenodd\" d=\"M5.188 7.521l6.836 6.837 6.837-6.837 1.06 1.06-7.366 7.368a.75.75 0 01-1.061 0L4.127 8.582l1.06-1.06z\"></path></svg></div></button></div></div>"
   ]
  },
  {
   "cell_type": "markdown",
   "id": "1c9bf0d4",
   "metadata": {
    "jupyter": {
     "source_hidden": true
    }
   },
   "source": [
    "<div class=\"biGQs _P pZUbB KxBGd\"><span class=\"yCeTE\">Hubby loves football.  And the Steelers are one of his top teams.  We booked this very cheap tour for fun and to see the stadium as it was summer and they were not playing.  Wow, just wow!  We were so impressed.  Our guide had worked there for a very long time.  He walked us all around, from lobby which has many very cool artefacts, to the back corridors, to the field.  ONTO the field, which was amazing.  Then up to see the field from a private lounge, and to the 2 lockerrooms.  <br><br>I am not sure that everyone gets the same extended tour, but it was excellent.  A great stop in the city.<br><br>Oh, and the gift shop is worth a stop.  They have everything from classic jerseys, to Christmas decorations, to kitchen utensils, etc.</span></div>"
   ]
  },
  {
   "cell_type": "markdown",
   "id": "970dc252",
   "metadata": {
    "jupyter": {
     "source_hidden": true
    }
   },
   "source": [
    "<div class=\"LbPSX\"><div><div class=\"C\" data-ft=\"true\"><div class=\"_c\" data-automation=\"reviewCard\"><div class=\"mwPje f M k\"><div class=\"XExLl f u o\"><div class=\"hzzSG\"><div class=\"MLvbw f u\"><div class=\"AYlYS\" style=\"z-index: 0;\"><div class=\"\"><div class=\"tknvo ccudK Rb I o\"><div class=\"\"><a target=\"_self\" tabindex=\"-1\" aria-hidden=\"true\" href=\"/Profile/lukegV5646PV\" class=\"BMQDV _F G- wSSLS SwZTJ\"><div class=\"FGwzt PaRlG\"><picture class=\"NhWcC _R mdkdE\" style=\"width: 32px; height: 32px;\"><img src=\"https://dynamic-media-cdn.tripadvisor.com/media/photo-o/1c/83/27/4f/luke-g.jpg?w=100&amp;h=-1&amp;s=1\" width=\"100\" height=\"100\" alt=\"Luke Gill\" loading=\"lazy\"></picture></div></a></div></div></div></div></div></div><div class=\"zpDvc\"><span class=\"biGQs _P fiohW fOtGX\"><a target=\"_self\" href=\"/Profile/lukegV5646PV\" class=\"BMQDV _F G- wSSLS SwZTJ FGwzt ukgoS\">Luke Gill</a></span><div class=\"JINyA\"><div class=\"biGQs _P pZUbB osNWb\"><span>Hutchinson, KS</span><span class=\"IugUm\">30 contributions</span></div></div></div></div><div class=\"f\"><button class=\"BrOJk u j z _F wSSLS HuPlH Vonfv\" type=\"button\" aria-label=\"Click to add helpful vote\"><svg viewBox=\"0 0 24 24\" width=\"20px\" height=\"20px\" class=\"d Vb UmNoP\"><path fill-rule=\"evenodd\" clip-rule=\"evenodd\" d=\"M14.379 4.749a2.592 2.592 0 00-.003.038l-.003.036a5.038 5.038 0 01-.006.068.831.831 0 01-.015.109l-.965 4.7h6.338a.25.25 0 01.248.283l-1.229 7.995v.002a.25.25 0 01-.25.212H7.98V10.79l4.894-4.7.963-.903c.061-.05.125-.11.169-.151l.02-.02a3.01 3.01 0 01.182-.16.645.645 0 01.172-.107zm.648-1.397c.23.092.384.224.479.313.206.194.29.436.326.58.041.16.055.32.055.447v.036l-.004.035-.012.144-.002.028-.008.09a2.303 2.303 0 01-.04.275l-.595 2.9h4.5a1.75 1.75 0 011.732 1.996l-.002.009-1.229 8a1.751 1.751 0 01-1.745 1.487H6.48v-9.54l5.365-5.154 1.013-.949.028-.021.03-.027a5.72 5.72 0 00.058-.055l.028-.026c.07-.064.165-.152.275-.24.203-.16.552-.398 1-.43.272-.018.521.01.751.102zM3.275 9.763a.75.75 0 01.75.75v9.492h-1.5v-9.491a.75.75 0 01.75-.75z\"></path></svg><span class=\"kLqdM\"><span class=\"biGQs _P FwFXZ\">0</span></span></button><div class=\"_T\"><div class=\"w _T\"><button class=\"BrOJk u j z _F wSSLS HuPlH Vonfv\" type=\"button\" aria-haspopup=\"menu\" aria-label=\"Open Options Menu\"><svg viewBox=\"0 0 24 24\" width=\"20px\" height=\"20px\" class=\"d Vb UmNoP\" x=\"0\" y=\"0\"><circle cx=\"12\" cy=\"19.4\" r=\"2.5\"></circle><circle cx=\"12\" cy=\"4.4\" r=\"2.5\"></circle><circle cx=\"12\" cy=\"11.9\" r=\"2.5\"></circle></svg></button></div></div></div></div><div><svg class=\"UctUV d H0\" viewBox=\"0 0 128 24\" width=\"88\" height=\"16\" aria-label=\"5.0 of 5 bubbles\"><path d=\"M 12 0C5.388 0 0 5.388 0 12s5.388 12 12 12 12-5.38 12-12c0-6.612-5.38-12-12-12z\" transform=\"\"></path><path d=\"M 12 0C5.388 0 0 5.388 0 12s5.388 12 12 12 12-5.38 12-12c0-6.612-5.38-12-12-12z\" transform=\"translate(26 0)\"></path><path d=\"M 12 0C5.388 0 0 5.388 0 12s5.388 12 12 12 12-5.38 12-12c0-6.612-5.38-12-12-12z\" transform=\"translate(52 0)\"></path><path d=\"M 12 0C5.388 0 0 5.388 0 12s5.388 12 12 12 12-5.38 12-12c0-6.612-5.38-12-12-12z\" transform=\"translate(78 0)\"></path><path d=\"M 12 0C5.388 0 0 5.388 0 12s5.388 12 12 12 12-5.38 12-12c0-6.612-5.38-12-12-12z\" transform=\"translate(104 0)\"></path></svg></div><div class=\"biGQs _P fiohW qWPrE ncFvv fOtGX\"><a target=\"_blank\" tabindex=\"0\" href=\"/ShowUserReviews-g53449-d272116-r874528892-Acrisure_Stadium_Tours-Pittsburgh_Pennsylvania.html\" class=\"BMQDV _F G- wSSLS SwZTJ FGwzt ukgoS\"><span class=\"yCeTE\">Heinz Field</span></a></div><div class=\"RpeCd\">Jan 2023 • Family</div><div class=\"_T FKffI\"><div class=\"fIrGe _T bgMZj\" style=\"line-break: normal; cursor: auto;\"><div class=\"biGQs _P pZUbB KxBGd\"><span class=\"yCeTE\">I watched the Steelers win the game against the Browns 28-14 and it was an incredible game experience! But personally I'm still calling this place Heinz Field.</span></div></div><div class=\"lszDU\" style=\"line-height: 22px;\"><button class=\"UikNM _G B- _S _T c G_ P0 wSSLS wnNQG\" type=\"button\"><span class=\"biGQs _P XWJSj Wb\">Read more</span><div class=\"CECjK\"><svg viewBox=\"0 0 25 24\" width=\"20px\" height=\"20px\" class=\"d Vb UmNoP\"><path fill-rule=\"evenodd\" clip-rule=\"evenodd\" d=\"M5.188 7.521l6.836 6.837 6.837-6.837 1.06 1.06-7.366 7.368a.75.75 0 01-1.061 0L4.127 8.582l1.06-1.06z\"></path></svg></div></button></div></div><div></div><div class=\"LblVz _e q\"><button class=\"ajoIU _S B-\" aria-label=\"See full review image\"><picture class=\"NhWcC _R mdkdE\" style=\"width: 100px; height: 100px;\"><img srcset=\"https://dynamic-media-cdn.tripadvisor.com/media/photo-o/27/be/84/be/acrisure-stadium-tours.jpg?w=200&amp;h=-1&amp;s=1 1x,https://dynamic-media-cdn.tripadvisor.com/media/photo-o/27/be/84/be/acrisure-stadium-tours.jpg?w=200&amp;h=200&amp;s=1 2x\" src=\"https://dynamic-media-cdn.tripadvisor.com/media/photo-o/27/be/84/be/acrisure-stadium-tours.jpg?w=200&amp;h=-1&amp;s=1\" width=\"200\" height=\"150\" role=\"none\" alt=\"\" loading=\"lazy\"></picture></button><button class=\"ajoIU _S B-\" aria-label=\"See full review image\"><picture class=\"NhWcC _R mdkdE\" style=\"width: 100px; height: 100px;\"><img srcset=\"https://dynamic-media-cdn.tripadvisor.com/media/photo-o/27/be/84/bc/acrisure-stadium-tours.jpg?w=100&amp;h=-1&amp;s=1 1x,https://dynamic-media-cdn.tripadvisor.com/media/photo-o/27/be/84/bc/acrisure-stadium-tours.jpg?w=200&amp;h=200&amp;s=1 2x\" src=\"https://dynamic-media-cdn.tripadvisor.com/media/photo-o/27/be/84/bc/acrisure-stadium-tours.jpg?w=100&amp;h=-1&amp;s=1\" width=\"100\" height=\"134\" role=\"none\" alt=\"\" loading=\"lazy\"></picture></button><button class=\"ajoIU _S B-\" aria-label=\"See full review image\"><picture class=\"NhWcC _R mdkdE\" style=\"width: 100px; height: 100px;\"><img srcset=\"https://dynamic-media-cdn.tripadvisor.com/media/photo-o/27/be/84/bd/acrisure-stadium-tours.jpg?w=100&amp;h=-1&amp;s=1 1x,https://dynamic-media-cdn.tripadvisor.com/media/photo-o/27/be/84/bd/acrisure-stadium-tours.jpg?w=200&amp;h=200&amp;s=1 2x\" src=\"https://dynamic-media-cdn.tripadvisor.com/media/photo-o/27/be/84/bd/acrisure-stadium-tours.jpg?w=100&amp;h=-1&amp;s=1\" width=\"100\" height=\"134\" role=\"none\" alt=\"\" loading=\"lazy\"></picture></button><button class=\"ajoIU _S B-\" aria-label=\"See full review image\"><picture class=\"NhWcC _R mdkdE\" style=\"width: 100px; height: 100px;\"><img srcset=\"https://dynamic-media-cdn.tripadvisor.com/media/photo-o/27/be/84/bb/acrisure-stadium-tours.jpg?w=200&amp;h=-1&amp;s=1 1x,https://dynamic-media-cdn.tripadvisor.com/media/photo-o/27/be/84/bb/acrisure-stadium-tours.jpg?w=200&amp;h=200&amp;s=1 2x\" src=\"https://dynamic-media-cdn.tripadvisor.com/media/photo-o/27/be/84/bb/acrisure-stadium-tours.jpg?w=200&amp;h=-1&amp;s=1\" width=\"200\" height=\"150\" role=\"none\" alt=\"\" loading=\"lazy\"></picture></button><button class=\"ajoIU _S B-\" aria-label=\"See full review image\"><picture class=\"NhWcC _R mdkdE\" style=\"width: 100px; height: 100px;\"><img srcset=\"https://dynamic-media-cdn.tripadvisor.com/media/photo-o/27/be/84/88/acrisure-stadium-tours.jpg?w=200&amp;h=-1&amp;s=1 1x,https://dynamic-media-cdn.tripadvisor.com/media/photo-o/27/be/84/88/acrisure-stadium-tours.jpg?w=200&amp;h=200&amp;s=1 2x\" src=\"https://dynamic-media-cdn.tripadvisor.com/media/photo-o/27/be/84/88/acrisure-stadium-tours.jpg?w=200&amp;h=-1&amp;s=1\" width=\"200\" height=\"150\" role=\"none\" alt=\"\" loading=\"lazy\"></picture></button><button class=\"ajoIU _S B-\" aria-label=\"See full review image\"><picture class=\"NhWcC _R mdkdE\" style=\"width: 100px; height: 100px;\"><img srcset=\"https://dynamic-media-cdn.tripadvisor.com/media/photo-o/27/be/84/84/acrisure-stadium-tours.jpg?w=200&amp;h=-1&amp;s=1 1x,https://dynamic-media-cdn.tripadvisor.com/media/photo-o/27/be/84/84/acrisure-stadium-tours.jpg?w=200&amp;h=200&amp;s=1 2x\" src=\"https://dynamic-media-cdn.tripadvisor.com/media/photo-o/27/be/84/84/acrisure-stadium-tours.jpg?w=200&amp;h=-1&amp;s=1\" width=\"200\" height=\"150\" role=\"none\" alt=\"\" loading=\"lazy\"></picture></button></div><div class=\"TreSq\"><div class=\"biGQs _P pZUbB ncFvv osNWb\">Written January 9, 2023</div><div class=\"biGQs _P pZUbB mowmC osNWb\">This review is the subjective opinion of a Tripadvisor member and not of Tripadvisor LLC. Tripadvisor performs checks on reviews.</div></div></div></div></div><div><hr class=\"RMdFe jHZoa vfszC\"><div class=\"C\" data-ft=\"true\"><div class=\"_c\" data-automation=\"reviewCard\"><div class=\"mwPje f M k\"><div class=\"XExLl f u o\"><div class=\"hzzSG\"><div class=\"MLvbw f u\"><div class=\"AYlYS\" style=\"z-index: 0;\"><div class=\"\"><div class=\"tknvo ccudK Rb I o\"><div class=\"\"><a target=\"_self\" tabindex=\"-1\" aria-hidden=\"true\" href=\"/Profile/zaz936\" class=\"BMQDV _F G- wSSLS SwZTJ\"><div class=\"FGwzt PaRlG\"><picture class=\"NhWcC _R mdkdE\" style=\"width: 32px; height: 32px;\"><img src=\"https://dynamic-media-cdn.tripadvisor.com/media/photo-s/01/3d/b4/92/zaz936.jpg?w=100&amp;h=-1&amp;s=1\" width=\"100\" height=\"75\" alt=\"Isa b\" loading=\"lazy\"></picture></div></a></div></div></div></div></div></div><div class=\"zpDvc\"><span class=\"biGQs _P fiohW fOtGX\"><a target=\"_self\" href=\"/Profile/zaz936\" class=\"BMQDV _F G- wSSLS SwZTJ FGwzt ukgoS\">Isa b</a></span><div class=\"JINyA\"><div class=\"biGQs _P pZUbB osNWb\"><span>Gatineau, Canada</span><span class=\"IugUm\">1,263 contributions</span></div></div></div></div><div class=\"f\"><button class=\"BrOJk u j z _F wSSLS HuPlH Vonfv\" type=\"button\" aria-label=\"Click to add helpful vote\"><svg viewBox=\"0 0 24 24\" width=\"20px\" height=\"20px\" class=\"d Vb UmNoP\"><path fill-rule=\"evenodd\" clip-rule=\"evenodd\" d=\"M14.379 4.749a2.592 2.592 0 00-.003.038l-.003.036a5.038 5.038 0 01-.006.068.831.831 0 01-.015.109l-.965 4.7h6.338a.25.25 0 01.248.283l-1.229 7.995v.002a.25.25 0 01-.25.212H7.98V10.79l4.894-4.7.963-.903c.061-.05.125-.11.169-.151l.02-.02a3.01 3.01 0 01.182-.16.645.645 0 01.172-.107zm.648-1.397c.23.092.384.224.479.313.206.194.29.436.326.58.041.16.055.32.055.447v.036l-.004.035-.012.144-.002.028-.008.09a2.303 2.303 0 01-.04.275l-.595 2.9h4.5a1.75 1.75 0 011.732 1.996l-.002.009-1.229 8a1.751 1.751 0 01-1.745 1.487H6.48v-9.54l5.365-5.154 1.013-.949.028-.021.03-.027a5.72 5.72 0 00.058-.055l.028-.026c.07-.064.165-.152.275-.24.203-.16.552-.398 1-.43.272-.018.521.01.751.102zM3.275 9.763a.75.75 0 01.75.75v9.492h-1.5v-9.491a.75.75 0 01.75-.75z\"></path></svg><span class=\"kLqdM\"><span class=\"biGQs _P FwFXZ\">0</span></span></button><div class=\"_T\"><div class=\"w _T\"><button class=\"BrOJk u j z _F wSSLS HuPlH Vonfv\" type=\"button\" aria-haspopup=\"menu\" aria-label=\"Open Options Menu\"><svg viewBox=\"0 0 24 24\" width=\"20px\" height=\"20px\" class=\"d Vb UmNoP\" x=\"0\" y=\"0\"><circle cx=\"12\" cy=\"19.4\" r=\"2.5\"></circle><circle cx=\"12\" cy=\"4.4\" r=\"2.5\"></circle><circle cx=\"12\" cy=\"11.9\" r=\"2.5\"></circle></svg></button></div></div></div></div><div><svg class=\"UctUV d H0\" viewBox=\"0 0 128 24\" width=\"88\" height=\"16\" aria-label=\"5.0 of 5 bubbles\"><path d=\"M 12 0C5.388 0 0 5.388 0 12s5.388 12 12 12 12-5.38 12-12c0-6.612-5.38-12-12-12z\" transform=\"\"></path><path d=\"M 12 0C5.388 0 0 5.388 0 12s5.388 12 12 12 12-5.38 12-12c0-6.612-5.38-12-12-12z\" transform=\"translate(26 0)\"></path><path d=\"M 12 0C5.388 0 0 5.388 0 12s5.388 12 12 12 12-5.38 12-12c0-6.612-5.38-12-12-12z\" transform=\"translate(52 0)\"></path><path d=\"M 12 0C5.388 0 0 5.388 0 12s5.388 12 12 12 12-5.38 12-12c0-6.612-5.38-12-12-12z\" transform=\"translate(78 0)\"></path><path d=\"M 12 0C5.388 0 0 5.388 0 12s5.388 12 12 12 12-5.38 12-12c0-6.612-5.38-12-12-12z\" transform=\"translate(104 0)\"></path></svg></div><div class=\"biGQs _P fiohW qWPrE ncFvv fOtGX\"><a target=\"_blank\" tabindex=\"0\" href=\"/ShowUserReviews-g53449-d272116-r864153594-Acrisure_Stadium_Tours-Pittsburgh_Pennsylvania.html\" class=\"BMQDV _F G- wSSLS SwZTJ FGwzt ukgoS\"><span class=\"yCeTE\">Amazing tour!</span></a></div><div class=\"RpeCd\">Aug 2022</div><div class=\"_T FKffI bmUTE\"><div class=\"fIrGe _T bgMZj\" style=\"-webkit-line-clamp: 7; line-break: normal; cursor: pointer;\"><div class=\"biGQs _P pZUbB KxBGd\"><span class=\"yCeTE\">Hubby loves football.  And the Steelers are one of his top teams.  We booked this very cheap tour for fun and to see the stadium as it was summer and they were not playing.  Wow, just wow!  We were so impressed.  Our guide had worked there for a very long time.  He walked us all around, from lobby which has many very cool artefacts, to the back corridors, to the field.  ONTO the field, which was amazing.  Then up to see the field from a private lounge, and to the 2 lockerrooms.  <br><br>I am not sure that everyone gets the same extended tour, but it was excellent.  A great stop in the city.<br><br>Oh, and the gift shop is worth a stop.  They have everything from classic jerseys, to Christmas decorations, to kitchen utensils, etc.</span></div></div><div class=\"lszDU\" style=\"line-height: 22px;\"><button class=\"UikNM _G B- _S _T c G_ P0 wSSLS wnNQG\" type=\"button\"><span class=\"biGQs _P XWJSj Wb\">Read more</span><div class=\"CECjK\"><svg viewBox=\"0 0 25 24\" width=\"20px\" height=\"20px\" class=\"d Vb UmNoP\"><path fill-rule=\"evenodd\" clip-rule=\"evenodd\" d=\"M5.188 7.521l6.836 6.837 6.837-6.837 1.06 1.06-7.366 7.368a.75.75 0 01-1.061 0L4.127 8.582l1.06-1.06z\"></path></svg></div></button></div></div><div></div><div class=\"TreSq\"><div class=\"biGQs _P pZUbB ncFvv osNWb\">Written October 11, 2022</div><div class=\"biGQs _P pZUbB mowmC osNWb\">This review is the subjective opinion of a Tripadvisor member and not of Tripadvisor LLC. Tripadvisor performs checks on reviews.</div></div></div></div></div><div><hr class=\"RMdFe jHZoa vfszC\"><div class=\"C\" data-ft=\"true\"><div class=\"_c\" data-automation=\"reviewCard\"><div class=\"mwPje f M k\"><div class=\"XExLl f u o\"><div class=\"hzzSG\"><div class=\"MLvbw f u\"><div class=\"AYlYS\" style=\"z-index: 0;\"><div class=\"\"><div class=\"tknvo ccudK Rb I o\"><div class=\"\"><a target=\"_self\" tabindex=\"-1\" aria-hidden=\"true\" href=\"/Profile/lhamilton1995\" class=\"BMQDV _F G- wSSLS SwZTJ\"><div class=\"FGwzt PaRlG\"><picture class=\"NhWcC _R mdkdE\" style=\"width: 32px; height: 32px;\"><img src=\"https://dynamic-media-cdn.tripadvisor.com/media/photo-o/1a/f6/e3/6a/default-avatar-2020-47.jpg?w=100&amp;h=-1&amp;s=1\" width=\"100\" height=\"100\" alt=\"lhamilton1995\" loading=\"lazy\"></picture></div></a></div></div></div></div></div></div><div class=\"zpDvc\"><span class=\"biGQs _P fiohW fOtGX\"><a target=\"_self\" href=\"/Profile/lhamilton1995\" class=\"BMQDV _F G- wSSLS SwZTJ FGwzt ukgoS\">lhamilton1995</a></span><div class=\"JINyA\"><div class=\"biGQs _P pZUbB osNWb\"><span>Livingston, UK</span><span class=\"IugUm\">50 contributions</span></div></div></div></div><div class=\"f\"><button class=\"BrOJk u j z _F wSSLS HuPlH Vonfv\" type=\"button\" aria-label=\"Click to add helpful vote\"><svg viewBox=\"0 0 24 24\" width=\"20px\" height=\"20px\" class=\"d Vb UmNoP\"><path fill-rule=\"evenodd\" clip-rule=\"evenodd\" d=\"M14.379 4.749a2.592 2.592 0 00-.003.038l-.003.036a5.038 5.038 0 01-.006.068.831.831 0 01-.015.109l-.965 4.7h6.338a.25.25 0 01.248.283l-1.229 7.995v.002a.25.25 0 01-.25.212H7.98V10.79l4.894-4.7.963-.903c.061-.05.125-.11.169-.151l.02-.02a3.01 3.01 0 01.182-.16.645.645 0 01.172-.107zm.648-1.397c.23.092.384.224.479.313.206.194.29.436.326.58.041.16.055.32.055.447v.036l-.004.035-.012.144-.002.028-.008.09a2.303 2.303 0 01-.04.275l-.595 2.9h4.5a1.75 1.75 0 011.732 1.996l-.002.009-1.229 8a1.751 1.751 0 01-1.745 1.487H6.48v-9.54l5.365-5.154 1.013-.949.028-.021.03-.027a5.72 5.72 0 00.058-.055l.028-.026c.07-.064.165-.152.275-.24.203-.16.552-.398 1-.43.272-.018.521.01.751.102zM3.275 9.763a.75.75 0 01.75.75v9.492h-1.5v-9.491a.75.75 0 01.75-.75z\"></path></svg><span class=\"kLqdM\"><span class=\"biGQs _P FwFXZ\">0</span></span></button><div class=\"_T\"><div class=\"w _T\"><button class=\"BrOJk u j z _F wSSLS HuPlH Vonfv\" type=\"button\" aria-haspopup=\"menu\" aria-label=\"Open Options Menu\"><svg viewBox=\"0 0 24 24\" width=\"20px\" height=\"20px\" class=\"d Vb UmNoP\" x=\"0\" y=\"0\"><circle cx=\"12\" cy=\"19.4\" r=\"2.5\"></circle><circle cx=\"12\" cy=\"4.4\" r=\"2.5\"></circle><circle cx=\"12\" cy=\"11.9\" r=\"2.5\"></circle></svg></button></div></div></div></div><div><svg class=\"UctUV d H0\" viewBox=\"0 0 128 24\" width=\"88\" height=\"16\" aria-label=\"5.0 of 5 bubbles\"><path d=\"M 12 0C5.388 0 0 5.388 0 12s5.388 12 12 12 12-5.38 12-12c0-6.612-5.38-12-12-12z\" transform=\"\"></path><path d=\"M 12 0C5.388 0 0 5.388 0 12s5.388 12 12 12 12-5.38 12-12c0-6.612-5.38-12-12-12z\" transform=\"translate(26 0)\"></path><path d=\"M 12 0C5.388 0 0 5.388 0 12s5.388 12 12 12 12-5.38 12-12c0-6.612-5.38-12-12-12z\" transform=\"translate(52 0)\"></path><path d=\"M 12 0C5.388 0 0 5.388 0 12s5.388 12 12 12 12-5.38 12-12c0-6.612-5.38-12-12-12z\" transform=\"translate(78 0)\"></path><path d=\"M 12 0C5.388 0 0 5.388 0 12s5.388 12 12 12 12-5.38 12-12c0-6.612-5.38-12-12-12z\" transform=\"translate(104 0)\"></path></svg></div><div class=\"biGQs _P fiohW qWPrE ncFvv fOtGX\"><a target=\"_blank\" tabindex=\"0\" href=\"/ShowUserReviews-g53449-d272116-r864152987-Acrisure_Stadium_Tours-Pittsburgh_Pennsylvania.html\" class=\"BMQDV _F G- wSSLS SwZTJ FGwzt ukgoS\"><span class=\"yCeTE\">Great Stadium Tour</span></a></div><div class=\"RpeCd\">Sep 2022 • Friends</div><div class=\"_T FKffI bmUTE\"><div class=\"fIrGe _T bgMZj\" style=\"-webkit-line-clamp: 7; line-break: normal; cursor: pointer;\"><div class=\"biGQs _P pZUbB KxBGd\"><span class=\"yCeTE\">Done a tour here the Friday before the home opener Vs the Patriots.  We paid $13 for what was meant to be a half hour tour.  It lasted about 75 minutes and showed so much more than I expected.  Into the Pitt and Steelers locker rooms, a good 10 minutes pitchside and the chance to enter the stadium via the home tunnel. <br><br>Another bonus is that you get 10% off in the club store afterwards.  Unfortunately I can't remember the name of our tour guide, June perhaps, but she was awesome.<br><br>Would 1 million percent recommend this tour to anyone</span></div></div><div class=\"lszDU\" style=\"line-height: 22px;\"><button class=\"UikNM _G B- _S _T c G_ P0 wSSLS wnNQG\" type=\"button\"><span class=\"biGQs _P XWJSj Wb\">Read more</span><div class=\"CECjK\"><svg viewBox=\"0 0 25 24\" width=\"20px\" height=\"20px\" class=\"d Vb UmNoP\"><path fill-rule=\"evenodd\" clip-rule=\"evenodd\" d=\"M5.188 7.521l6.836 6.837 6.837-6.837 1.06 1.06-7.366 7.368a.75.75 0 01-1.061 0L4.127 8.582l1.06-1.06z\"></path></svg></div></button></div></div><div></div><div class=\"TreSq\"><div class=\"biGQs _P pZUbB ncFvv osNWb\">Written October 11, 2022</div><div class=\"biGQs _P pZUbB mowmC osNWb\">This review is the subjective opinion of a Tripadvisor member and not of Tripadvisor LLC. Tripadvisor performs checks on reviews.</div></div></div></div></div><div><hr class=\"RMdFe jHZoa vfszC\"><div class=\"C\" data-ft=\"true\"><div class=\"_c\" data-automation=\"reviewCard\"><div class=\"mwPje f M k\"><div class=\"XExLl f u o\"><div class=\"hzzSG\"><div class=\"MLvbw f u\"><div class=\"AYlYS\" style=\"z-index: 0;\"><div class=\"\"><div class=\"tknvo ccudK Rb I o\"><div class=\"\"><a target=\"_self\" tabindex=\"-1\" aria-hidden=\"true\" href=\"/Profile/GoVols79\" class=\"BMQDV _F G- wSSLS SwZTJ\"><div class=\"FGwzt PaRlG\"><picture class=\"NhWcC _R mdkdE\" style=\"width: 32px; height: 32px;\"><img src=\"https://dynamic-media-cdn.tripadvisor.com/media/photo-o/13/0b/ee/34/govols79.jpg?w=100&amp;h=-1&amp;s=1\" width=\"100\" height=\"100\" alt=\"GoVols79\" loading=\"lazy\"></picture></div></a></div></div></div></div></div></div><div class=\"zpDvc\"><span class=\"biGQs _P fiohW fOtGX\"><a target=\"_self\" href=\"/Profile/GoVols79\" class=\"BMQDV _F G- wSSLS SwZTJ FGwzt ukgoS\">GoVols79</a></span><div class=\"JINyA\"><div class=\"biGQs _P pZUbB osNWb\"><span>Chattanooga, TN</span><span class=\"IugUm\">2,798 contributions</span></div></div></div></div><div class=\"f\"><button class=\"BrOJk u j z _F wSSLS HuPlH Vonfv\" type=\"button\" aria-label=\"Click to add helpful vote\"><svg viewBox=\"0 0 24 24\" width=\"20px\" height=\"20px\" class=\"d Vb UmNoP\"><path fill-rule=\"evenodd\" clip-rule=\"evenodd\" d=\"M14.379 4.749a2.592 2.592 0 00-.003.038l-.003.036a5.038 5.038 0 01-.006.068.831.831 0 01-.015.109l-.965 4.7h6.338a.25.25 0 01.248.283l-1.229 7.995v.002a.25.25 0 01-.25.212H7.98V10.79l4.894-4.7.963-.903c.061-.05.125-.11.169-.151l.02-.02a3.01 3.01 0 01.182-.16.645.645 0 01.172-.107zm.648-1.397c.23.092.384.224.479.313.206.194.29.436.326.58.041.16.055.32.055.447v.036l-.004.035-.012.144-.002.028-.008.09a2.303 2.303 0 01-.04.275l-.595 2.9h4.5a1.75 1.75 0 011.732 1.996l-.002.009-1.229 8a1.751 1.751 0 01-1.745 1.487H6.48v-9.54l5.365-5.154 1.013-.949.028-.021.03-.027a5.72 5.72 0 00.058-.055l.028-.026c.07-.064.165-.152.275-.24.203-.16.552-.398 1-.43.272-.018.521.01.751.102zM3.275 9.763a.75.75 0 01.75.75v9.492h-1.5v-9.491a.75.75 0 01.75-.75z\"></path></svg><span class=\"kLqdM\"><span class=\"biGQs _P FwFXZ\">0</span></span></button><div class=\"_T\"><div class=\"w _T\"><button class=\"BrOJk u j z _F wSSLS HuPlH Vonfv\" type=\"button\" aria-haspopup=\"menu\" aria-label=\"Open Options Menu\"><svg viewBox=\"0 0 24 24\" width=\"20px\" height=\"20px\" class=\"d Vb UmNoP\" x=\"0\" y=\"0\"><circle cx=\"12\" cy=\"19.4\" r=\"2.5\"></circle><circle cx=\"12\" cy=\"4.4\" r=\"2.5\"></circle><circle cx=\"12\" cy=\"11.9\" r=\"2.5\"></circle></svg></button></div></div></div></div><div><svg class=\"UctUV d H0\" viewBox=\"0 0 128 24\" width=\"88\" height=\"16\" aria-label=\"5.0 of 5 bubbles\"><path d=\"M 12 0C5.388 0 0 5.388 0 12s5.388 12 12 12 12-5.38 12-12c0-6.612-5.38-12-12-12z\" transform=\"\"></path><path d=\"M 12 0C5.388 0 0 5.388 0 12s5.388 12 12 12 12-5.38 12-12c0-6.612-5.38-12-12-12z\" transform=\"translate(26 0)\"></path><path d=\"M 12 0C5.388 0 0 5.388 0 12s5.388 12 12 12 12-5.38 12-12c0-6.612-5.38-12-12-12z\" transform=\"translate(52 0)\"></path><path d=\"M 12 0C5.388 0 0 5.388 0 12s5.388 12 12 12 12-5.38 12-12c0-6.612-5.38-12-12-12z\" transform=\"translate(78 0)\"></path><path d=\"M 12 0C5.388 0 0 5.388 0 12s5.388 12 12 12 12-5.38 12-12c0-6.612-5.38-12-12-12z\" transform=\"translate(104 0)\"></path></svg></div><div class=\"biGQs _P fiohW qWPrE ncFvv fOtGX\"><a target=\"_blank\" tabindex=\"0\" href=\"/ShowUserReviews-g53449-d272116-r861284524-Acrisure_Stadium_Tours-Pittsburgh_Pennsylvania.html\" class=\"BMQDV _F G- wSSLS SwZTJ FGwzt ukgoS\"><span class=\"yCeTE\">Acrisure Stadium</span></a></div><div class=\"RpeCd\">Sep 2022 • Couples</div><div class=\"_T FKffI\"><div class=\"fIrGe _T bgMZj\" style=\"line-break: normal; cursor: auto;\"><div class=\"biGQs _P pZUbB KxBGd\"><span class=\"yCeTE\">We visited Acrisure Stadium for the first time to see the Pittsburgh vs Tennessee game. Since we were already downtown we took the train to the game which is free within certain stops and negates the need for parking. The entry process is very easy and quick. It is very obvious that this is the home of the Steelers from the yellow seats and the concourse that was full of signs and even a Super Bowl trophy. Our seats were on the field level which gave a great view of the action. I thought the stadium was very easy to navigate and had a good mix of food options. The Vols won in overtime so we went home happy. We had a great visit and would love to return for an NFL game.</span></div></div><div class=\"lszDU\" style=\"line-height: 22px;\"><button class=\"UikNM _G B- _S _T c G_ P0 wSSLS wnNQG\" type=\"button\"><span class=\"biGQs _P XWJSj Wb\">Read more</span><div class=\"CECjK\"><svg viewBox=\"0 0 25 24\" width=\"20px\" height=\"20px\" class=\"d Vb UmNoP\"><path fill-rule=\"evenodd\" clip-rule=\"evenodd\" d=\"M5.188 7.521l6.836 6.837 6.837-6.837 1.06 1.06-7.366 7.368a.75.75 0 01-1.061 0L4.127 8.582l1.06-1.06z\"></path></svg></div></button></div></div><div></div><div class=\"LblVz _e q\"><button class=\"ajoIU _S B-\" aria-label=\"See full review image\"><picture class=\"NhWcC _R mdkdE\" style=\"width: 100px; height: 100px;\"><img srcset=\"https://dynamic-media-cdn.tripadvisor.com/media/photo-o/26/07/99/55/caption.jpg?w=200&amp;h=-1&amp;s=1 1x,https://dynamic-media-cdn.tripadvisor.com/media/photo-o/26/07/99/55/caption.jpg?w=200&amp;h=200&amp;s=1 2x\" src=\"https://dynamic-media-cdn.tripadvisor.com/media/photo-o/26/07/99/55/caption.jpg?w=200&amp;h=-1&amp;s=1\" width=\"200\" height=\"150\" role=\"none\" alt=\"\" loading=\"lazy\"></picture></button><button class=\"ajoIU _S B-\" aria-label=\"See full review image\"><picture class=\"NhWcC _R mdkdE\" style=\"width: 100px; height: 100px;\"><img srcset=\"https://dynamic-media-cdn.tripadvisor.com/media/photo-o/26/07/99/56/caption.jpg?w=200&amp;h=-1&amp;s=1 1x,https://dynamic-media-cdn.tripadvisor.com/media/photo-o/26/07/99/56/caption.jpg?w=200&amp;h=200&amp;s=1 2x\" src=\"https://dynamic-media-cdn.tripadvisor.com/media/photo-o/26/07/99/56/caption.jpg?w=200&amp;h=-1&amp;s=1\" width=\"200\" height=\"150\" role=\"none\" alt=\"\" loading=\"lazy\"></picture></button><button class=\"ajoIU _S B-\" aria-label=\"See full review image\"><picture class=\"NhWcC _R mdkdE\" style=\"width: 100px; height: 100px;\"><img srcset=\"https://dynamic-media-cdn.tripadvisor.com/media/photo-o/26/07/99/57/caption.jpg?w=200&amp;h=-1&amp;s=1 1x,https://dynamic-media-cdn.tripadvisor.com/media/photo-o/26/07/99/57/caption.jpg?w=200&amp;h=200&amp;s=1 2x\" src=\"https://dynamic-media-cdn.tripadvisor.com/media/photo-o/26/07/99/57/caption.jpg?w=200&amp;h=-1&amp;s=1\" width=\"200\" height=\"150\" role=\"none\" alt=\"\" loading=\"lazy\"></picture></button><button class=\"ajoIU _S B-\" aria-label=\"See full review image\"><picture class=\"NhWcC _R mdkdE\" style=\"width: 100px; height: 100px;\"><img srcset=\"https://dynamic-media-cdn.tripadvisor.com/media/photo-o/26/07/99/58/caption.jpg?w=200&amp;h=-1&amp;s=1 1x,https://dynamic-media-cdn.tripadvisor.com/media/photo-o/26/07/99/58/caption.jpg?w=200&amp;h=200&amp;s=1 2x\" src=\"https://dynamic-media-cdn.tripadvisor.com/media/photo-o/26/07/99/58/caption.jpg?w=200&amp;h=-1&amp;s=1\" width=\"200\" height=\"150\" role=\"none\" alt=\"\" loading=\"lazy\"></picture></button><button class=\"ajoIU _S B-\" aria-label=\"See full review image\"><picture class=\"NhWcC _R mdkdE\" style=\"width: 100px; height: 100px;\"><img srcset=\"https://dynamic-media-cdn.tripadvisor.com/media/photo-o/26/07/99/59/caption.jpg?w=200&amp;h=-1&amp;s=1 1x,https://dynamic-media-cdn.tripadvisor.com/media/photo-o/26/07/99/59/caption.jpg?w=200&amp;h=200&amp;s=1 2x\" src=\"https://dynamic-media-cdn.tripadvisor.com/media/photo-o/26/07/99/59/caption.jpg?w=200&amp;h=-1&amp;s=1\" width=\"200\" height=\"150\" role=\"none\" alt=\"\" loading=\"lazy\"></picture></button><button class=\"ajoIU _S B-\" aria-label=\"See full review image\"><picture class=\"NhWcC _R mdkdE\" style=\"width: 100px; height: 100px;\"><img srcset=\"https://dynamic-media-cdn.tripadvisor.com/media/photo-o/26/07/99/5a/caption.jpg?w=200&amp;h=-1&amp;s=1 1x,https://dynamic-media-cdn.tripadvisor.com/media/photo-o/26/07/99/5a/caption.jpg?w=200&amp;h=200&amp;s=1 2x\" src=\"https://dynamic-media-cdn.tripadvisor.com/media/photo-o/26/07/99/5a/caption.jpg?w=200&amp;h=-1&amp;s=1\" width=\"200\" height=\"150\" role=\"none\" alt=\"\" loading=\"lazy\"></picture></button><button class=\"ajoIU _S B-\" aria-label=\"See full review image\"><picture class=\"NhWcC _R mdkdE\" style=\"width: 100px; height: 100px;\"><img srcset=\"https://dynamic-media-cdn.tripadvisor.com/media/photo-o/26/07/99/5b/caption.jpg?w=200&amp;h=-1&amp;s=1 1x,https://dynamic-media-cdn.tripadvisor.com/media/photo-o/26/07/99/5b/caption.jpg?w=200&amp;h=200&amp;s=1 2x\" src=\"https://dynamic-media-cdn.tripadvisor.com/media/photo-o/26/07/99/5b/caption.jpg?w=200&amp;h=-1&amp;s=1\" width=\"200\" height=\"150\" role=\"none\" alt=\"\" loading=\"lazy\"></picture></button></div><div class=\"TreSq\"><div class=\"biGQs _P pZUbB ncFvv osNWb\">Written September 21, 2022</div><div class=\"biGQs _P pZUbB mowmC osNWb\">This review is the subjective opinion of a Tripadvisor member and not of Tripadvisor LLC. Tripadvisor performs checks on reviews.</div></div></div></div></div><div><hr class=\"RMdFe jHZoa vfszC\"><div class=\"C\" data-ft=\"true\"><div class=\"_c\" data-automation=\"reviewCard\"><div class=\"mwPje f M k\"><div class=\"XExLl f u o\"><div class=\"hzzSG\"><div class=\"MLvbw f u\"><div class=\"AYlYS\" style=\"z-index: 0;\"><div class=\"\"><div class=\"tknvo ccudK Rb I o\"><div class=\"\"><a target=\"_self\" tabindex=\"-1\" aria-hidden=\"true\" href=\"/Profile/AnonymousIllinois\" class=\"BMQDV _F G- wSSLS SwZTJ\"><div class=\"FGwzt PaRlG\"><picture class=\"NhWcC _R mdkdE\" style=\"width: 32px; height: 32px;\"><img src=\"https://dynamic-media-cdn.tripadvisor.com/media/photo-o/04/8b/f5/07/martin-s.jpg?w=100&amp;h=-1&amp;s=1\" width=\"100\" height=\"75\" alt=\"martin s\" loading=\"lazy\"></picture></div></a></div></div></div></div></div></div><div class=\"zpDvc\"><span class=\"biGQs _P fiohW fOtGX\"><a target=\"_self\" href=\"/Profile/AnonymousIllinois\" class=\"BMQDV _F G- wSSLS SwZTJ FGwzt ukgoS\">martin s</a></span><div class=\"JINyA\"><div class=\"biGQs _P pZUbB osNWb\"><span>Illinois</span><span class=\"IugUm\">131 contributions</span></div></div></div></div><div class=\"f\"><button class=\"BrOJk u j z _F wSSLS HuPlH Vonfv\" type=\"button\" aria-label=\"Click to add helpful vote\"><svg viewBox=\"0 0 24 24\" width=\"20px\" height=\"20px\" class=\"d Vb UmNoP\"><path fill-rule=\"evenodd\" clip-rule=\"evenodd\" d=\"M14.379 4.749a2.592 2.592 0 00-.003.038l-.003.036a5.038 5.038 0 01-.006.068.831.831 0 01-.015.109l-.965 4.7h6.338a.25.25 0 01.248.283l-1.229 7.995v.002a.25.25 0 01-.25.212H7.98V10.79l4.894-4.7.963-.903c.061-.05.125-.11.169-.151l.02-.02a3.01 3.01 0 01.182-.16.645.645 0 01.172-.107zm.648-1.397c.23.092.384.224.479.313.206.194.29.436.326.58.041.16.055.32.055.447v.036l-.004.035-.012.144-.002.028-.008.09a2.303 2.303 0 01-.04.275l-.595 2.9h4.5a1.75 1.75 0 011.732 1.996l-.002.009-1.229 8a1.751 1.751 0 01-1.745 1.487H6.48v-9.54l5.365-5.154 1.013-.949.028-.021.03-.027a5.72 5.72 0 00.058-.055l.028-.026c.07-.064.165-.152.275-.24.203-.16.552-.398 1-.43.272-.018.521.01.751.102zM3.275 9.763a.75.75 0 01.75.75v9.492h-1.5v-9.491a.75.75 0 01.75-.75z\"></path></svg><span class=\"kLqdM\"><span class=\"biGQs _P FwFXZ\">0</span></span></button><div class=\"_T\"><div class=\"w _T\"><button class=\"BrOJk u j z _F wSSLS HuPlH Vonfv\" type=\"button\" aria-haspopup=\"menu\" aria-label=\"Open Options Menu\"><svg viewBox=\"0 0 24 24\" width=\"20px\" height=\"20px\" class=\"d Vb UmNoP\" x=\"0\" y=\"0\"><circle cx=\"12\" cy=\"19.4\" r=\"2.5\"></circle><circle cx=\"12\" cy=\"4.4\" r=\"2.5\"></circle><circle cx=\"12\" cy=\"11.9\" r=\"2.5\"></circle></svg></button></div></div></div></div><div><svg class=\"UctUV d H0\" viewBox=\"0 0 128 24\" width=\"88\" height=\"16\" aria-label=\"5.0 of 5 bubbles\"><path d=\"M 12 0C5.388 0 0 5.388 0 12s5.388 12 12 12 12-5.38 12-12c0-6.612-5.38-12-12-12z\" transform=\"\"></path><path d=\"M 12 0C5.388 0 0 5.388 0 12s5.388 12 12 12 12-5.38 12-12c0-6.612-5.38-12-12-12z\" transform=\"translate(26 0)\"></path><path d=\"M 12 0C5.388 0 0 5.388 0 12s5.388 12 12 12 12-5.38 12-12c0-6.612-5.38-12-12-12z\" transform=\"translate(52 0)\"></path><path d=\"M 12 0C5.388 0 0 5.388 0 12s5.388 12 12 12 12-5.38 12-12c0-6.612-5.38-12-12-12z\" transform=\"translate(78 0)\"></path><path d=\"M 12 0C5.388 0 0 5.388 0 12s5.388 12 12 12 12-5.38 12-12c0-6.612-5.38-12-12-12z\" transform=\"translate(104 0)\"></path></svg></div><div class=\"biGQs _P fiohW qWPrE ncFvv fOtGX\"><a target=\"_blank\" tabindex=\"0\" href=\"/ShowUserReviews-g53449-d272116-r860228413-Acrisure_Stadium_Tours-Pittsburgh_Pennsylvania.html\" class=\"BMQDV _F G- wSSLS SwZTJ FGwzt ukgoS\"><span class=\"yCeTE\">First game at Accrisure Field</span></a></div><div class=\"RpeCd\">Sep 2022</div><div class=\"_T FKffI\"><div class=\"fIrGe _T bgMZj\" style=\"line-break: normal; cursor: auto;\"><div class=\"biGQs _P pZUbB KxBGd\"><span class=\"yCeTE\">Seats were great-3rd row on the goal line. Stadium is obviously iconic. Good food choices. Really enjoyed watching the game</span></div></div><div class=\"lszDU\" style=\"line-height: 22px;\"><button class=\"UikNM _G B- _S _T c G_ P0 wSSLS wnNQG\" type=\"button\"><span class=\"biGQs _P XWJSj Wb\">Read more</span><div class=\"CECjK\"><svg viewBox=\"0 0 25 24\" width=\"20px\" height=\"20px\" class=\"d Vb UmNoP\"><path fill-rule=\"evenodd\" clip-rule=\"evenodd\" d=\"M5.188 7.521l6.836 6.837 6.837-6.837 1.06 1.06-7.366 7.368a.75.75 0 01-1.061 0L4.127 8.582l1.06-1.06z\"></path></svg></div></button></div></div><div></div><div class=\"TreSq\"><div class=\"biGQs _P pZUbB ncFvv osNWb\">Written September 15, 2022</div><div class=\"biGQs _P pZUbB mowmC osNWb\">This review is the subjective opinion of a Tripadvisor member and not of Tripadvisor LLC. Tripadvisor performs checks on reviews.</div></div></div></div></div><div><hr class=\"RMdFe jHZoa vfszC\"><div class=\"C\" data-ft=\"true\"><div class=\"_c\" data-automation=\"reviewCard\"><div class=\"mwPje f M k\"><div class=\"XExLl f u o\"><div class=\"hzzSG\"><div class=\"MLvbw f u\"><div class=\"AYlYS\" style=\"z-index: 0;\"><div class=\"\"><div class=\"tknvo ccudK Rb I o\"><div class=\"\"><a target=\"_self\" tabindex=\"-1\" aria-hidden=\"true\" href=\"/Profile/scootervol\" class=\"BMQDV _F G- wSSLS SwZTJ\"><div class=\"FGwzt PaRlG\"><picture class=\"NhWcC _R mdkdE\" style=\"width: 32px; height: 32px;\"><img src=\"https://dynamic-media-cdn.tripadvisor.com/media/photo-o/1a/f6/f4/5d/default-avatar-2020-32.jpg?w=100&amp;h=-1&amp;s=1\" width=\"100\" height=\"100\" alt=\"scootervol\" loading=\"lazy\"></picture></div></a></div></div></div></div></div></div><div class=\"zpDvc\"><span class=\"biGQs _P fiohW fOtGX\"><a target=\"_self\" href=\"/Profile/scootervol\" class=\"BMQDV _F G- wSSLS SwZTJ FGwzt ukgoS\">scootervol</a></span><div class=\"JINyA\"><div class=\"biGQs _P pZUbB osNWb\"><span>Knoxville, TN</span><span class=\"IugUm\">182 contributions</span></div></div></div></div><div class=\"f\"><button class=\"BrOJk u j z _F wSSLS HuPlH Vonfv\" type=\"button\" aria-label=\"Click to add helpful vote\"><svg viewBox=\"0 0 24 24\" width=\"20px\" height=\"20px\" class=\"d Vb UmNoP\"><path fill-rule=\"evenodd\" clip-rule=\"evenodd\" d=\"M14.379 4.749a2.592 2.592 0 00-.003.038l-.003.036a5.038 5.038 0 01-.006.068.831.831 0 01-.015.109l-.965 4.7h6.338a.25.25 0 01.248.283l-1.229 7.995v.002a.25.25 0 01-.25.212H7.98V10.79l4.894-4.7.963-.903c.061-.05.125-.11.169-.151l.02-.02a3.01 3.01 0 01.182-.16.645.645 0 01.172-.107zm.648-1.397c.23.092.384.224.479.313.206.194.29.436.326.58.041.16.055.32.055.447v.036l-.004.035-.012.144-.002.028-.008.09a2.303 2.303 0 01-.04.275l-.595 2.9h4.5a1.75 1.75 0 011.732 1.996l-.002.009-1.229 8a1.751 1.751 0 01-1.745 1.487H6.48v-9.54l5.365-5.154 1.013-.949.028-.021.03-.027a5.72 5.72 0 00.058-.055l.028-.026c.07-.064.165-.152.275-.24.203-.16.552-.398 1-.43.272-.018.521.01.751.102zM3.275 9.763a.75.75 0 01.75.75v9.492h-1.5v-9.491a.75.75 0 01.75-.75z\"></path></svg><span class=\"kLqdM\"><span class=\"biGQs _P FwFXZ\">0</span></span></button><div class=\"_T\"><div class=\"w _T\"><button class=\"BrOJk u j z _F wSSLS HuPlH Vonfv\" type=\"button\" aria-haspopup=\"menu\" aria-label=\"Open Options Menu\"><svg viewBox=\"0 0 24 24\" width=\"20px\" height=\"20px\" class=\"d Vb UmNoP\" x=\"0\" y=\"0\"><circle cx=\"12\" cy=\"19.4\" r=\"2.5\"></circle><circle cx=\"12\" cy=\"4.4\" r=\"2.5\"></circle><circle cx=\"12\" cy=\"11.9\" r=\"2.5\"></circle></svg></button></div></div></div></div><div><svg class=\"UctUV d H0\" viewBox=\"0 0 128 24\" width=\"88\" height=\"16\" aria-label=\"5.0 of 5 bubbles\"><path d=\"M 12 0C5.388 0 0 5.388 0 12s5.388 12 12 12 12-5.38 12-12c0-6.612-5.38-12-12-12z\" transform=\"\"></path><path d=\"M 12 0C5.388 0 0 5.388 0 12s5.388 12 12 12 12-5.38 12-12c0-6.612-5.38-12-12-12z\" transform=\"translate(26 0)\"></path><path d=\"M 12 0C5.388 0 0 5.388 0 12s5.388 12 12 12 12-5.38 12-12c0-6.612-5.38-12-12-12z\" transform=\"translate(52 0)\"></path><path d=\"M 12 0C5.388 0 0 5.388 0 12s5.388 12 12 12 12-5.38 12-12c0-6.612-5.38-12-12-12z\" transform=\"translate(78 0)\"></path><path d=\"M 12 0C5.388 0 0 5.388 0 12s5.388 12 12 12 12-5.38 12-12c0-6.612-5.38-12-12-12z\" transform=\"translate(104 0)\"></path></svg></div><div class=\"biGQs _P fiohW qWPrE ncFvv fOtGX\"><a target=\"_blank\" tabindex=\"0\" href=\"/ShowUserReviews-g53449-d272116-r859931676-Acrisure_Stadium_Tours-Pittsburgh_Pennsylvania.html\" class=\"BMQDV _F G- wSSLS SwZTJ FGwzt ukgoS\"><span class=\"yCeTE\">Iconic NFL venue</span></a></div><div class=\"RpeCd\">Sep 2022 • Couples</div><div class=\"_T FKffI\"><div class=\"fIrGe _T bgMZj\" style=\"line-break: normal; cursor: auto;\"><div class=\"biGQs _P pZUbB KxBGd\"><span class=\"yCeTE\">Even though our seats for the game were in the nosebleeds, the seats weren’t bad. Nice views of the city. Wide selection of vendors.</span></div></div><div class=\"lszDU\" style=\"line-height: 22px;\"><button class=\"UikNM _G B- _S _T c G_ P0 wSSLS wnNQG\" type=\"button\"><span class=\"biGQs _P XWJSj Wb\">Read more</span><div class=\"CECjK\"><svg viewBox=\"0 0 25 24\" width=\"20px\" height=\"20px\" class=\"d Vb UmNoP\"><path fill-rule=\"evenodd\" clip-rule=\"evenodd\" d=\"M5.188 7.521l6.836 6.837 6.837-6.837 1.06 1.06-7.366 7.368a.75.75 0 01-1.061 0L4.127 8.582l1.06-1.06z\"></path></svg></div></button></div></div><div></div><div class=\"LblVz _e q\"><button class=\"ajoIU _S B-\" aria-label=\"See full review image\"><picture class=\"NhWcC _R\" style=\"width: 100px; height: 100px;\"><img srcset=\"https://dynamic-media-cdn.tripadvisor.com/media/photo-o/25/cf/81/94/caption.jpg?w=100&amp;h=-1&amp;s=1 1x,https://dynamic-media-cdn.tripadvisor.com/media/photo-o/25/cf/81/94/caption.jpg?w=200&amp;h=200&amp;s=1 2x\" src=\"https://dynamic-media-cdn.tripadvisor.com/media/photo-o/25/cf/81/94/caption.jpg?w=100&amp;h=-1&amp;s=1\" width=\"100\" height=\"134\" role=\"none\" alt=\"\" loading=\"lazy\"></picture></button><button class=\"ajoIU _S B-\" aria-label=\"See full review image\"><picture class=\"NhWcC _R\" style=\"width: 100px; height: 100px;\"><img srcset=\"https://dynamic-media-cdn.tripadvisor.com/media/photo-o/25/cf/81/96/caption.jpg?w=100&amp;h=-1&amp;s=1 1x,https://dynamic-media-cdn.tripadvisor.com/media/photo-o/25/cf/81/96/caption.jpg?w=200&amp;h=200&amp;s=1 2x\" src=\"https://dynamic-media-cdn.tripadvisor.com/media/photo-o/25/cf/81/96/caption.jpg?w=100&amp;h=-1&amp;s=1\" width=\"100\" height=\"134\" role=\"none\" alt=\"\" loading=\"lazy\"></picture></button><button class=\"ajoIU _S B-\" aria-label=\"See full review image\"><picture class=\"NhWcC _R\" style=\"width: 100px; height: 100px;\"><img srcset=\"https://dynamic-media-cdn.tripadvisor.com/media/photo-o/25/cf/81/97/caption.jpg?w=100&amp;h=-1&amp;s=1 1x,https://dynamic-media-cdn.tripadvisor.com/media/photo-o/25/cf/81/97/caption.jpg?w=200&amp;h=200&amp;s=1 2x\" src=\"https://dynamic-media-cdn.tripadvisor.com/media/photo-o/25/cf/81/97/caption.jpg?w=100&amp;h=-1&amp;s=1\" width=\"100\" height=\"134\" role=\"none\" alt=\"\" loading=\"lazy\"></picture></button><button class=\"ajoIU _S B-\" aria-label=\"See full review image\"><picture class=\"NhWcC _R\" style=\"width: 100px; height: 100px;\"><img srcset=\"https://dynamic-media-cdn.tripadvisor.com/media/photo-o/25/cf/81/98/caption.jpg?w=100&amp;h=-1&amp;s=1 1x,https://dynamic-media-cdn.tripadvisor.com/media/photo-o/25/cf/81/98/caption.jpg?w=200&amp;h=200&amp;s=1 2x\" src=\"https://dynamic-media-cdn.tripadvisor.com/media/photo-o/25/cf/81/98/caption.jpg?w=100&amp;h=-1&amp;s=1\" width=\"100\" height=\"134\" role=\"none\" alt=\"\" loading=\"lazy\"></picture></button></div><div class=\"TreSq\"><div class=\"biGQs _P pZUbB ncFvv osNWb\">Written September 13, 2022</div><div class=\"biGQs _P pZUbB mowmC osNWb\">This review is the subjective opinion of a Tripadvisor member and not of Tripadvisor LLC. Tripadvisor performs checks on reviews.</div></div></div></div></div><div><hr class=\"RMdFe jHZoa vfszC\"><div class=\"C\" data-ft=\"true\"><div class=\"_c\" data-automation=\"reviewCard\"><div class=\"mwPje f M k\"><div class=\"XExLl f u o\"><div class=\"hzzSG\"><div class=\"MLvbw f u\"><div class=\"AYlYS\" style=\"z-index: 0;\"><div class=\"\"><div class=\"tknvo ccudK Rb I o\"><div class=\"\"><a target=\"_self\" tabindex=\"-1\" aria-hidden=\"true\" href=\"/Profile/frankl380\" class=\"BMQDV _F G- wSSLS SwZTJ\"><div class=\"FGwzt PaRlG\"><picture class=\"NhWcC _R\" style=\"width: 32px; height: 32px;\"><img src=\"https://dynamic-media-cdn.tripadvisor.com/media/photo-o/07/02/8f/95/frank-l.jpg?w=100&amp;h=-1&amp;s=1\" width=\"100\" height=\"100\" alt=\"Frank L\" loading=\"lazy\"></picture></div></a></div></div></div></div></div></div><div class=\"zpDvc\"><span class=\"biGQs _P fiohW fOtGX\"><a target=\"_self\" href=\"/Profile/frankl380\" class=\"BMQDV _F G- wSSLS SwZTJ FGwzt ukgoS\">Frank L</a></span><div class=\"JINyA\"><div class=\"biGQs _P pZUbB osNWb\"><span>Nashville, TN</span><span class=\"IugUm\">249 contributions</span></div></div></div></div><div class=\"f\"><button class=\"BrOJk u j z _F wSSLS HuPlH Vonfv\" type=\"button\" aria-label=\"Click to add helpful vote\"><svg viewBox=\"0 0 24 24\" width=\"20px\" height=\"20px\" class=\"d Vb UmNoP\"><path fill-rule=\"evenodd\" clip-rule=\"evenodd\" d=\"M14.379 4.749a2.592 2.592 0 00-.003.038l-.003.036a5.038 5.038 0 01-.006.068.831.831 0 01-.015.109l-.965 4.7h6.338a.25.25 0 01.248.283l-1.229 7.995v.002a.25.25 0 01-.25.212H7.98V10.79l4.894-4.7.963-.903c.061-.05.125-.11.169-.151l.02-.02a3.01 3.01 0 01.182-.16.645.645 0 01.172-.107zm.648-1.397c.23.092.384.224.479.313.206.194.29.436.326.58.041.16.055.32.055.447v.036l-.004.035-.012.144-.002.028-.008.09a2.303 2.303 0 01-.04.275l-.595 2.9h4.5a1.75 1.75 0 011.732 1.996l-.002.009-1.229 8a1.751 1.751 0 01-1.745 1.487H6.48v-9.54l5.365-5.154 1.013-.949.028-.021.03-.027a5.72 5.72 0 00.058-.055l.028-.026c.07-.064.165-.152.275-.24.203-.16.552-.398 1-.43.272-.018.521.01.751.102zM3.275 9.763a.75.75 0 01.75.75v9.492h-1.5v-9.491a.75.75 0 01.75-.75z\"></path></svg><span class=\"kLqdM\"><span class=\"biGQs _P FwFXZ\">0</span></span></button><div class=\"_T\"><div class=\"w _T\"><button class=\"BrOJk u j z _F wSSLS HuPlH Vonfv\" type=\"button\" aria-haspopup=\"menu\" aria-label=\"Open Options Menu\"><svg viewBox=\"0 0 24 24\" width=\"20px\" height=\"20px\" class=\"d Vb UmNoP\" x=\"0\" y=\"0\"><circle cx=\"12\" cy=\"19.4\" r=\"2.5\"></circle><circle cx=\"12\" cy=\"4.4\" r=\"2.5\"></circle><circle cx=\"12\" cy=\"11.9\" r=\"2.5\"></circle></svg></button></div></div></div></div><div><svg class=\"UctUV d H0\" viewBox=\"0 0 128 24\" width=\"88\" height=\"16\" aria-label=\"5.0 of 5 bubbles\"><path d=\"M 12 0C5.388 0 0 5.388 0 12s5.388 12 12 12 12-5.38 12-12c0-6.612-5.38-12-12-12z\" transform=\"\"></path><path d=\"M 12 0C5.388 0 0 5.388 0 12s5.388 12 12 12 12-5.38 12-12c0-6.612-5.38-12-12-12z\" transform=\"translate(26 0)\"></path><path d=\"M 12 0C5.388 0 0 5.388 0 12s5.388 12 12 12 12-5.38 12-12c0-6.612-5.38-12-12-12z\" transform=\"translate(52 0)\"></path><path d=\"M 12 0C5.388 0 0 5.388 0 12s5.388 12 12 12 12-5.38 12-12c0-6.612-5.38-12-12-12z\" transform=\"translate(78 0)\"></path><path d=\"M 12 0C5.388 0 0 5.388 0 12s5.388 12 12 12 12-5.38 12-12c0-6.612-5.38-12-12-12z\" transform=\"translate(104 0)\"></path></svg></div><div class=\"biGQs _P fiohW qWPrE ncFvv fOtGX\"><a target=\"_blank\" tabindex=\"0\" href=\"/ShowUserReviews-g53449-d272116-r859649135-Acrisure_Stadium_Tours-Pittsburgh_Pennsylvania.html\" class=\"BMQDV _F G- wSSLS SwZTJ FGwzt ukgoS\"><span class=\"yCeTE\">Great stadium</span></a></div><div class=\"RpeCd\">Sep 2022</div><div class=\"_T FKffI\"><div class=\"fIrGe _T bgMZj\" style=\"line-break: normal; cursor: auto;\"><div class=\"biGQs _P pZUbB KxBGd\"><span class=\"yCeTE\">came to the Tenn-Pitt game. Thought the stadium was great, excellent design and amenities (although all were not accessible during the Pitt game). Look forward to coming back</span></div></div><div class=\"lszDU\" style=\"line-height: 22px;\"><button class=\"UikNM _G B- _S _T c G_ P0 wSSLS wnNQG\" type=\"button\"><span class=\"biGQs _P XWJSj Wb\">Read more</span><div class=\"CECjK\"><svg viewBox=\"0 0 25 24\" width=\"20px\" height=\"20px\" class=\"d Vb UmNoP\"><path fill-rule=\"evenodd\" clip-rule=\"evenodd\" d=\"M5.188 7.521l6.836 6.837 6.837-6.837 1.06 1.06-7.366 7.368a.75.75 0 01-1.061 0L4.127 8.582l1.06-1.06z\"></path></svg></div></button></div></div><div></div><div class=\"TreSq\"><div class=\"biGQs _P pZUbB ncFvv osNWb\">Written September 11, 2022</div><div class=\"biGQs _P pZUbB mowmC osNWb\">This review is the subjective opinion of a Tripadvisor member and not of Tripadvisor LLC. Tripadvisor performs checks on reviews.</div></div><div class=\"hjJJO PJ\"><div class=\"CXZQW M k MI\"><div class=\"XExLl f u o\"><div class=\"hzzSG\"><div class=\"MLvbw f u\"><div class=\"AYlYS\" style=\"z-index: 0;\"><div class=\"\"><div class=\"tknvo ccudK Rb I o\"><div class=\"\"><a target=\"_self\" tabindex=\"-1\" aria-hidden=\"true\" href=\"/Profile/AcrisureStadium\" class=\"BMQDV _F G- wSSLS SwZTJ\"><div class=\"FGwzt PaRlG\"><picture class=\"NhWcC _R mdkdE\" style=\"width: 32px; height: 32px;\"><img src=\"https://dynamic-media-cdn.tripadvisor.com/media/photo-o/0f/2f/66/64/heinzfield.jpg?w=100&amp;h=-1&amp;s=1\" width=\"100\" height=\"100\" alt=\"Acrisure Stadium\" loading=\"lazy\"></picture></div></a></div></div></div></div></div></div><div class=\"zpDvc\"><span class=\"biGQs _P fiohW fOtGX\"><a target=\"_self\" href=\"/Profile/AcrisureStadium\" class=\"BMQDV _F G- wSSLS SwZTJ FGwzt ukgoS\">Acrisure Stadium</a></span></div></div><div class=\"Sgbpo\"><div class=\"_T\"><div class=\"w _T\"><button class=\"BrOJk u j z _F wSSLS HuPlH Vonfv\" type=\"button\" aria-haspopup=\"menu\" aria-label=\"Open Options Menu\"><svg viewBox=\"0 0 24 24\" width=\"20px\" height=\"20px\" class=\"d Vb UmNoP\" x=\"0\" y=\"0\"><circle cx=\"12\" cy=\"19.4\" r=\"2.5\"></circle><circle cx=\"12\" cy=\"4.4\" r=\"2.5\"></circle><circle cx=\"12\" cy=\"11.9\" r=\"2.5\"></circle></svg></button></div></div></div></div><div class=\"_T FKffI\"><div class=\"fIrGe _T bgMZj\" style=\"line-break: normal; cursor: auto;\"><div class=\"biGQs _P pZUbB KxBGd\"><div class=\"biGQs _P pZUbB KxBGd\">Thanks for coming! Glad to hear you enjoyed your experience with us. </div></div></div><div class=\"lszDU\" style=\"line-height: 22px;\"><button class=\"UikNM _G B- _S _T c G_ P0 wSSLS wnNQG\" type=\"button\"><span class=\"biGQs _P XWJSj Wb\">Read more</span><div class=\"CECjK\"><svg viewBox=\"0 0 25 24\" width=\"20px\" height=\"20px\" class=\"d Vb UmNoP\"><path fill-rule=\"evenodd\" clip-rule=\"evenodd\" d=\"M5.188 7.521l6.836 6.837 6.837-6.837 1.06 1.06-7.366 7.368a.75.75 0 01-1.061 0L4.127 8.582l1.06-1.06z\"></path></svg></div></button></div></div><div class=\"biGQs _P pZUbB xUqsL ncFvv osNWb\">Written September 21, 2022</div><div class=\"biGQs _P pZUbB osNWb\">This response is the subjective opinion of the management representative and not of Tripadvisor LLC.</div></div></div></div></div><div><hr class=\"RMdFe jHZoa vfszC\"><div class=\"C\" data-ft=\"true\"><div class=\"_c\" data-automation=\"reviewCard\"><div class=\"mwPje f M k\"><div class=\"XExLl f u o\"><div class=\"hzzSG\"><div class=\"MLvbw f u\"><div class=\"AYlYS\" style=\"z-index: 0;\"><div class=\"\"><div class=\"tknvo ccudK Rb I o\"><div class=\"\"><a target=\"_self\" tabindex=\"-1\" aria-hidden=\"true\" href=\"/Profile/Outbax\" class=\"BMQDV _F G- wSSLS SwZTJ\"><div class=\"FGwzt PaRlG\"><picture class=\"NhWcC _R\" style=\"width: 32px; height: 32px;\"><img src=\"https://dynamic-media-cdn.tripadvisor.com/media/photo-s/01/f1/15/40/outbax.jpg?w=100&amp;h=-1&amp;s=1\" width=\"100\" height=\"75\" alt=\"Outbax\" loading=\"lazy\"></picture></div></a></div></div></div></div></div></div><div class=\"zpDvc\"><span class=\"biGQs _P fiohW fOtGX\"><a target=\"_self\" href=\"/Profile/Outbax\" class=\"BMQDV _F G- wSSLS SwZTJ FGwzt ukgoS\">Outbax</a></span><div class=\"JINyA\"><div class=\"biGQs _P pZUbB osNWb\"><span>Toronto, Canada</span><span class=\"IugUm\">254 contributions</span></div></div></div></div><div class=\"f\"><button class=\"BrOJk u j z _F wSSLS HuPlH Vonfv\" type=\"button\" aria-label=\"Click to add helpful vote\"><svg viewBox=\"0 0 24 24\" width=\"20px\" height=\"20px\" class=\"d Vb UmNoP\"><path fill-rule=\"evenodd\" clip-rule=\"evenodd\" d=\"M14.379 4.749a2.592 2.592 0 00-.003.038l-.003.036a5.038 5.038 0 01-.006.068.831.831 0 01-.015.109l-.965 4.7h6.338a.25.25 0 01.248.283l-1.229 7.995v.002a.25.25 0 01-.25.212H7.98V10.79l4.894-4.7.963-.903c.061-.05.125-.11.169-.151l.02-.02a3.01 3.01 0 01.182-.16.645.645 0 01.172-.107zm.648-1.397c.23.092.384.224.479.313.206.194.29.436.326.58.041.16.055.32.055.447v.036l-.004.035-.012.144-.002.028-.008.09a2.303 2.303 0 01-.04.275l-.595 2.9h4.5a1.75 1.75 0 011.732 1.996l-.002.009-1.229 8a1.751 1.751 0 01-1.745 1.487H6.48v-9.54l5.365-5.154 1.013-.949.028-.021.03-.027a5.72 5.72 0 00.058-.055l.028-.026c.07-.064.165-.152.275-.24.203-.16.552-.398 1-.43.272-.018.521.01.751.102zM3.275 9.763a.75.75 0 01.75.75v9.492h-1.5v-9.491a.75.75 0 01.75-.75z\"></path></svg><span class=\"kLqdM\"><span class=\"biGQs _P FwFXZ\">0</span></span></button><div class=\"_T\"><div class=\"w _T\"><button class=\"BrOJk u j z _F wSSLS HuPlH Vonfv\" type=\"button\" aria-haspopup=\"menu\" aria-label=\"Open Options Menu\"><svg viewBox=\"0 0 24 24\" width=\"20px\" height=\"20px\" class=\"d Vb UmNoP\" x=\"0\" y=\"0\"><circle cx=\"12\" cy=\"19.4\" r=\"2.5\"></circle><circle cx=\"12\" cy=\"4.4\" r=\"2.5\"></circle><circle cx=\"12\" cy=\"11.9\" r=\"2.5\"></circle></svg></button></div></div></div></div><div><svg class=\"UctUV d H0\" viewBox=\"0 0 128 24\" width=\"88\" height=\"16\" aria-label=\"5.0 of 5 bubbles\"><path d=\"M 12 0C5.388 0 0 5.388 0 12s5.388 12 12 12 12-5.38 12-12c0-6.612-5.38-12-12-12z\" transform=\"\"></path><path d=\"M 12 0C5.388 0 0 5.388 0 12s5.388 12 12 12 12-5.38 12-12c0-6.612-5.38-12-12-12z\" transform=\"translate(26 0)\"></path><path d=\"M 12 0C5.388 0 0 5.388 0 12s5.388 12 12 12 12-5.38 12-12c0-6.612-5.38-12-12-12z\" transform=\"translate(52 0)\"></path><path d=\"M 12 0C5.388 0 0 5.388 0 12s5.388 12 12 12 12-5.38 12-12c0-6.612-5.38-12-12-12z\" transform=\"translate(78 0)\"></path><path d=\"M 12 0C5.388 0 0 5.388 0 12s5.388 12 12 12 12-5.38 12-12c0-6.612-5.38-12-12-12z\" transform=\"translate(104 0)\"></path></svg></div><div class=\"biGQs _P fiohW qWPrE ncFvv fOtGX\"><a target=\"_blank\" tabindex=\"0\" href=\"/ShowUserReviews-g53449-d272116-r858644477-Acrisure_Stadium_Tours-Pittsburgh_Pennsylvania.html\" class=\"BMQDV _F G- wSSLS SwZTJ FGwzt ukgoS\"><span class=\"yCeTE\">The tour is a must do for any sports fan.</span></a></div><div class=\"RpeCd\">Sep 2022 • Family</div><div class=\"_T FKffI\"><div class=\"fIrGe _T bgMZj\" style=\"line-break: normal; cursor: auto;\"><div class=\"biGQs _P pZUbB KxBGd\"><span class=\"yCeTE\">Great value. Highlights visiting Steelers and Pitt locker room and field. Tour guide was informative, well spoken and added to the atmosphere. 30 minute tour ended up being 45 minutes. It felt like owners had a genuine intent to offer a high level experience for minimal cost. (Unlike some other nearby professional sports franchise offering a minimal experience for a high cost).</span></div></div><div class=\"lszDU\" style=\"line-height: 22px;\"><button class=\"UikNM _G B- _S _T c G_ P0 wSSLS wnNQG\" type=\"button\"><span class=\"biGQs _P XWJSj Wb\">Read more</span><div class=\"CECjK\"><svg viewBox=\"0 0 25 24\" width=\"20px\" height=\"20px\" class=\"d Vb UmNoP\"><path fill-rule=\"evenodd\" clip-rule=\"evenodd\" d=\"M5.188 7.521l6.836 6.837 6.837-6.837 1.06 1.06-7.366 7.368a.75.75 0 01-1.061 0L4.127 8.582l1.06-1.06z\"></path></svg></div></button></div></div><div></div><div class=\"TreSq\"><div class=\"biGQs _P pZUbB ncFvv osNWb\">Written September 5, 2022</div><div class=\"biGQs _P pZUbB mowmC osNWb\">This review is the subjective opinion of a Tripadvisor member and not of Tripadvisor LLC. Tripadvisor performs checks on reviews.</div></div><div class=\"hjJJO PJ\"><div class=\"CXZQW M k MI\"><div class=\"XExLl f u o\"><div class=\"hzzSG\"><div class=\"MLvbw f u\"><div class=\"AYlYS\" style=\"z-index: 0;\"><div class=\"\"><div class=\"tknvo ccudK Rb I o\"><div class=\"\"><a target=\"_self\" tabindex=\"-1\" aria-hidden=\"true\" href=\"/Profile/AcrisureStadium\" class=\"BMQDV _F G- wSSLS SwZTJ\"><div class=\"FGwzt PaRlG\"><picture class=\"NhWcC _R mdkdE\" style=\"width: 32px; height: 32px;\"><img src=\"https://dynamic-media-cdn.tripadvisor.com/media/photo-o/0f/2f/66/64/heinzfield.jpg?w=100&amp;h=-1&amp;s=1\" width=\"100\" height=\"100\" alt=\"Acrisure Stadium\" loading=\"lazy\"></picture></div></a></div></div></div></div></div></div><div class=\"zpDvc\"><span class=\"biGQs _P fiohW fOtGX\"><a target=\"_self\" href=\"/Profile/AcrisureStadium\" class=\"BMQDV _F G- wSSLS SwZTJ FGwzt ukgoS\">Acrisure Stadium</a></span></div></div><div class=\"Sgbpo\"><div class=\"_T\"><div class=\"w _T\"><button class=\"BrOJk u j z _F wSSLS HuPlH Vonfv\" type=\"button\" aria-haspopup=\"menu\" aria-label=\"Open Options Menu\"><svg viewBox=\"0 0 24 24\" width=\"20px\" height=\"20px\" class=\"d Vb UmNoP\" x=\"0\" y=\"0\"><circle cx=\"12\" cy=\"19.4\" r=\"2.5\"></circle><circle cx=\"12\" cy=\"4.4\" r=\"2.5\"></circle><circle cx=\"12\" cy=\"11.9\" r=\"2.5\"></circle></svg></button></div></div></div></div><div class=\"_T FKffI\"><div class=\"fIrGe _T bgMZj\" style=\"line-break: normal; cursor: auto;\"><div class=\"biGQs _P pZUbB KxBGd\"><div class=\"biGQs _P pZUbB KxBGd\">Thank you for your review! </div></div></div><div class=\"lszDU\" style=\"line-height: 22px;\"><button class=\"UikNM _G B- _S _T c G_ P0 wSSLS wnNQG\" type=\"button\"><span class=\"biGQs _P XWJSj Wb\">Read more</span><div class=\"CECjK\"><svg viewBox=\"0 0 25 24\" width=\"20px\" height=\"20px\" class=\"d Vb UmNoP\"><path fill-rule=\"evenodd\" clip-rule=\"evenodd\" d=\"M5.188 7.521l6.836 6.837 6.837-6.837 1.06 1.06-7.366 7.368a.75.75 0 01-1.061 0L4.127 8.582l1.06-1.06z\"></path></svg></div></button></div></div><div class=\"biGQs _P pZUbB xUqsL ncFvv osNWb\">Written September 9, 2022</div><div class=\"biGQs _P pZUbB osNWb\">This response is the subjective opinion of the management representative and not of Tripadvisor LLC.</div></div></div></div></div><div><hr class=\"RMdFe jHZoa vfszC\"><div class=\"C\" data-ft=\"true\"><div class=\"_c\" data-automation=\"reviewCard\"><div class=\"mwPje f M k\"><div class=\"XExLl f u o\"><div class=\"hzzSG\"><div class=\"MLvbw f u\"><div class=\"AYlYS\" style=\"z-index: 0;\"><div class=\"\"><div class=\"tknvo ccudK Rb I o\"><div class=\"\"><a target=\"_self\" tabindex=\"-1\" aria-hidden=\"true\" href=\"/Profile/U6506MYrodneyl\" class=\"BMQDV _F G- wSSLS SwZTJ\"><div class=\"FGwzt PaRlG\"><picture class=\"NhWcC _R mdkdE\" style=\"width: 32px; height: 32px;\"><img src=\"https://dynamic-media-cdn.tripadvisor.com/media/photo-o/1a/f6/e7/7b/default-avatar-2020-56.jpg?w=100&amp;h=-1&amp;s=1\" width=\"100\" height=\"100\" alt=\"rodney l\" loading=\"lazy\"></picture></div></a></div></div></div></div></div></div><div class=\"zpDvc\"><span class=\"biGQs _P fiohW fOtGX\"><a target=\"_self\" href=\"/Profile/U6506MYrodneyl\" class=\"BMQDV _F G- wSSLS SwZTJ FGwzt ukgoS\">rodney l</a></span><div class=\"JINyA\"><div class=\"biGQs _P pZUbB osNWb\"><span class=\"\">1 contribution</span></div></div></div></div><div class=\"f\"><button class=\"BrOJk u j z _F wSSLS HuPlH Vonfv\" type=\"button\" aria-label=\"Click to add helpful vote\"><svg viewBox=\"0 0 24 24\" width=\"20px\" height=\"20px\" class=\"d Vb UmNoP\"><path fill-rule=\"evenodd\" clip-rule=\"evenodd\" d=\"M14.379 4.749a2.592 2.592 0 00-.003.038l-.003.036a5.038 5.038 0 01-.006.068.831.831 0 01-.015.109l-.965 4.7h6.338a.25.25 0 01.248.283l-1.229 7.995v.002a.25.25 0 01-.25.212H7.98V10.79l4.894-4.7.963-.903c.061-.05.125-.11.169-.151l.02-.02a3.01 3.01 0 01.182-.16.645.645 0 01.172-.107zm.648-1.397c.23.092.384.224.479.313.206.194.29.436.326.58.041.16.055.32.055.447v.036l-.004.035-.012.144-.002.028-.008.09a2.303 2.303 0 01-.04.275l-.595 2.9h4.5a1.75 1.75 0 011.732 1.996l-.002.009-1.229 8a1.751 1.751 0 01-1.745 1.487H6.48v-9.54l5.365-5.154 1.013-.949.028-.021.03-.027a5.72 5.72 0 00.058-.055l.028-.026c.07-.064.165-.152.275-.24.203-.16.552-.398 1-.43.272-.018.521.01.751.102zM3.275 9.763a.75.75 0 01.75.75v9.492h-1.5v-9.491a.75.75 0 01.75-.75z\"></path></svg><span class=\"kLqdM\"><span class=\"biGQs _P FwFXZ\">0</span></span></button><div class=\"_T\"><div class=\"w _T\"><button class=\"BrOJk u j z _F wSSLS HuPlH Vonfv\" type=\"button\" aria-haspopup=\"menu\" aria-label=\"Open Options Menu\"><svg viewBox=\"0 0 24 24\" width=\"20px\" height=\"20px\" class=\"d Vb UmNoP\" x=\"0\" y=\"0\"><circle cx=\"12\" cy=\"19.4\" r=\"2.5\"></circle><circle cx=\"12\" cy=\"4.4\" r=\"2.5\"></circle><circle cx=\"12\" cy=\"11.9\" r=\"2.5\"></circle></svg></button></div></div></div></div><div><svg class=\"UctUV d H0\" viewBox=\"0 0 128 24\" width=\"88\" height=\"16\" aria-label=\"1.0 of 5 bubbles\"><path d=\"M 12 0C5.388 0 0 5.388 0 12s5.388 12 12 12 12-5.38 12-12c0-6.612-5.38-12-12-12z\" transform=\"\"></path><path d=\"M 12 0C5.388 0 0 5.388 0 12s5.388 12 12 12 12-5.38 12-12c0-6.612-5.38-12-12-12zm0 2a9.983 9.983 0 019.995 10 10 10 0 01-10 10A10 10 0 012 12 10 10 0 0112 2z\" transform=\"translate(26 0)\"></path><path d=\"M 12 0C5.388 0 0 5.388 0 12s5.388 12 12 12 12-5.38 12-12c0-6.612-5.38-12-12-12zm0 2a9.983 9.983 0 019.995 10 10 10 0 01-10 10A10 10 0 012 12 10 10 0 0112 2z\" transform=\"translate(52 0)\"></path><path d=\"M 12 0C5.388 0 0 5.388 0 12s5.388 12 12 12 12-5.38 12-12c0-6.612-5.38-12-12-12zm0 2a9.983 9.983 0 019.995 10 10 10 0 01-10 10A10 10 0 012 12 10 10 0 0112 2z\" transform=\"translate(78 0)\"></path><path d=\"M 12 0C5.388 0 0 5.388 0 12s5.388 12 12 12 12-5.38 12-12c0-6.612-5.38-12-12-12zm0 2a9.983 9.983 0 019.995 10 10 10 0 01-10 10A10 10 0 012 12 10 10 0 0112 2z\" transform=\"translate(104 0)\"></path></svg></div><div class=\"biGQs _P fiohW qWPrE ncFvv fOtGX\"><a target=\"_blank\" tabindex=\"0\" href=\"/ShowUserReviews-g53449-d272116-r857578135-Acrisure_Stadium_Tours-Pittsburgh_Pennsylvania.html\" class=\"BMQDV _F G- wSSLS SwZTJ FGwzt ukgoS\"><span class=\"yCeTE\">Game day tour</span></a></div><div class=\"RpeCd\">Aug 2022</div><div class=\"_T FKffI\"><div class=\"fIrGe _T bgMZj\" style=\"line-break: normal; cursor: auto;\"><div class=\"biGQs _P pZUbB KxBGd\"><span class=\"yCeTE\">Not so VIP Birthday gift for my son first time at a game figured lets go all out and do the  tour as well in hopes to meet his favorite player and get jersey signed tour guide was late and on the phone most of the time gotten redirected a few times which was odd tour ended ten minutes early there was nothing premium with the areas visted   concourse full of employees in the way of taking pictures of memorabilia on the field experience  I drove 6hrs to see the steelers not detroit loins close up  steelers had one player at the other end of the field  warming up and we couldn't go down there was told only field pass and season tickets not worth $250 each plus game tickets just had hopes of making my sons first game experience great  game was good tho</span></div></div><div class=\"lszDU\" style=\"line-height: 22px;\"><button class=\"UikNM _G B- _S _T c G_ P0 wSSLS wnNQG\" type=\"button\"><span class=\"biGQs _P XWJSj Wb\">Read more</span><div class=\"CECjK\"><svg viewBox=\"0 0 25 24\" width=\"20px\" height=\"20px\" class=\"d Vb UmNoP\"><path fill-rule=\"evenodd\" clip-rule=\"evenodd\" d=\"M5.188 7.521l6.836 6.837 6.837-6.837 1.06 1.06-7.366 7.368a.75.75 0 01-1.061 0L4.127 8.582l1.06-1.06z\"></path></svg></div></button></div></div><div></div><div class=\"TreSq\"><div class=\"biGQs _P pZUbB ncFvv osNWb\">Written August 31, 2022</div><div class=\"biGQs _P pZUbB mowmC osNWb\">This review is the subjective opinion of a Tripadvisor member and not of Tripadvisor LLC. Tripadvisor performs checks on reviews.</div></div></div></div></div><div><hr class=\"RMdFe jHZoa vfszC\"><div class=\"C\" data-ft=\"true\"><div class=\"_c\" data-automation=\"reviewCard\"><div class=\"mwPje f M k\"><div class=\"XExLl f u o\"><div class=\"hzzSG\"><div class=\"MLvbw f u\"><div class=\"AYlYS\" style=\"z-index: 0;\"><div class=\"\"><div class=\"tknvo ccudK Rb I o\"><div class=\"\"><a target=\"_self\" tabindex=\"-1\" aria-hidden=\"true\" href=\"/Profile/Navigator719241\" class=\"BMQDV _F G- wSSLS SwZTJ\"><div class=\"FGwzt PaRlG\"><picture class=\"NhWcC _R\" style=\"width: 32px; height: 32px;\"><img src=\"https://dynamic-media-cdn.tripadvisor.com/media/photo-o/1a/f6/e2/e6/default-avatar-2020-45.jpg?w=100&amp;h=-1&amp;s=1\" width=\"100\" height=\"100\" alt=\"Carla H\" loading=\"lazy\"></picture></div></a></div></div></div></div></div></div><div class=\"zpDvc\"><span class=\"biGQs _P fiohW fOtGX\"><a target=\"_self\" href=\"/Profile/Navigator719241\" class=\"BMQDV _F G- wSSLS SwZTJ FGwzt ukgoS\">Carla H</a></span><div class=\"JINyA\"><div class=\"biGQs _P pZUbB osNWb\"><span class=\"\">3 contributions</span></div></div></div></div><div class=\"f\"><button class=\"BrOJk u j z _F wSSLS HuPlH Vonfv\" type=\"button\" aria-label=\"Click to add helpful vote\"><svg viewBox=\"0 0 24 24\" width=\"20px\" height=\"20px\" class=\"d Vb UmNoP\"><path fill-rule=\"evenodd\" clip-rule=\"evenodd\" d=\"M14.379 4.749a2.592 2.592 0 00-.003.038l-.003.036a5.038 5.038 0 01-.006.068.831.831 0 01-.015.109l-.965 4.7h6.338a.25.25 0 01.248.283l-1.229 7.995v.002a.25.25 0 01-.25.212H7.98V10.79l4.894-4.7.963-.903c.061-.05.125-.11.169-.151l.02-.02a3.01 3.01 0 01.182-.16.645.645 0 01.172-.107zm.648-1.397c.23.092.384.224.479.313.206.194.29.436.326.58.041.16.055.32.055.447v.036l-.004.035-.012.144-.002.028-.008.09a2.303 2.303 0 01-.04.275l-.595 2.9h4.5a1.75 1.75 0 011.732 1.996l-.002.009-1.229 8a1.751 1.751 0 01-1.745 1.487H6.48v-9.54l5.365-5.154 1.013-.949.028-.021.03-.027a5.72 5.72 0 00.058-.055l.028-.026c.07-.064.165-.152.275-.24.203-.16.552-.398 1-.43.272-.018.521.01.751.102zM3.275 9.763a.75.75 0 01.75.75v9.492h-1.5v-9.491a.75.75 0 01.75-.75z\"></path></svg><span class=\"kLqdM\"><span class=\"biGQs _P FwFXZ\">2</span></span></button><div class=\"_T\"><div class=\"w _T\"><button class=\"BrOJk u j z _F wSSLS HuPlH Vonfv\" type=\"button\" aria-haspopup=\"menu\" aria-label=\"Open Options Menu\"><svg viewBox=\"0 0 24 24\" width=\"20px\" height=\"20px\" class=\"d Vb UmNoP\" x=\"0\" y=\"0\"><circle cx=\"12\" cy=\"19.4\" r=\"2.5\"></circle><circle cx=\"12\" cy=\"4.4\" r=\"2.5\"></circle><circle cx=\"12\" cy=\"11.9\" r=\"2.5\"></circle></svg></button></div></div></div></div><div><svg class=\"UctUV d H0\" viewBox=\"0 0 128 24\" width=\"88\" height=\"16\" aria-label=\"5.0 of 5 bubbles\"><path d=\"M 12 0C5.388 0 0 5.388 0 12s5.388 12 12 12 12-5.38 12-12c0-6.612-5.38-12-12-12z\" transform=\"\"></path><path d=\"M 12 0C5.388 0 0 5.388 0 12s5.388 12 12 12 12-5.38 12-12c0-6.612-5.38-12-12-12z\" transform=\"translate(26 0)\"></path><path d=\"M 12 0C5.388 0 0 5.388 0 12s5.388 12 12 12 12-5.38 12-12c0-6.612-5.38-12-12-12z\" transform=\"translate(52 0)\"></path><path d=\"M 12 0C5.388 0 0 5.388 0 12s5.388 12 12 12 12-5.38 12-12c0-6.612-5.38-12-12-12z\" transform=\"translate(78 0)\"></path><path d=\"M 12 0C5.388 0 0 5.388 0 12s5.388 12 12 12 12-5.38 12-12c0-6.612-5.38-12-12-12z\" transform=\"translate(104 0)\"></path></svg></div><div class=\"biGQs _P fiohW qWPrE ncFvv fOtGX\"><a target=\"_blank\" tabindex=\"0\" href=\"/ShowUserReviews-g53449-d272116-r849796050-Acrisure_Stadium_Tours-Pittsburgh_Pennsylvania.html\" class=\"BMQDV _F G- wSSLS SwZTJ FGwzt ukgoS\"><span class=\"yCeTE\">The Hallowed Ground of \"Heinz (Acrisure) Field\" Tour</span></a></div><div class=\"RpeCd\">Jul 2022</div><div class=\"_T FKffI\"><div class=\"fIrGe _T bgMZj\" style=\"line-break: normal; cursor: auto;\"><div class=\"biGQs _P pZUbB KxBGd\"><span class=\"yCeTE\">The tour is very well planned as far as what u get to see in the playing/seating area and within the stadium.  Our tour guide Carter was knowledgeable and funny.  For those who have tickets to the games there are facts to learn.  I think for those of us who can't get to games but visit Pittsburgh, it's an affordable way to become one with this beloved space.  As I watch the games I will feel more like I am actually there due to the tour.</span></div></div><div class=\"lszDU\" style=\"line-height: 22px;\"><button class=\"UikNM _G B- _S _T c G_ P0 wSSLS wnNQG\" type=\"button\"><span class=\"biGQs _P XWJSj Wb\">Read more</span><div class=\"CECjK\"><svg viewBox=\"0 0 25 24\" width=\"20px\" height=\"20px\" class=\"d Vb UmNoP\"><path fill-rule=\"evenodd\" clip-rule=\"evenodd\" d=\"M5.188 7.521l6.836 6.837 6.837-6.837 1.06 1.06-7.366 7.368a.75.75 0 01-1.061 0L4.127 8.582l1.06-1.06z\"></path></svg></div></button></div></div><div></div><div class=\"TreSq\"><div class=\"biGQs _P pZUbB ncFvv osNWb\">Written July 25, 2022</div><div class=\"biGQs _P pZUbB mowmC osNWb\">This review is the subjective opinion of a Tripadvisor member and not of Tripadvisor LLC. Tripadvisor performs checks on reviews.</div></div><div class=\"hjJJO PJ\"><div class=\"CXZQW M k MI\"><div class=\"XExLl f u o\"><div class=\"hzzSG\"><div class=\"MLvbw f u\"><div class=\"AYlYS\" style=\"z-index: 0;\"><div class=\"\"><div class=\"tknvo ccudK Rb I o\"><div class=\"\"><a target=\"_self\" tabindex=\"-1\" aria-hidden=\"true\" href=\"/Profile/AcrisureStadium\" class=\"BMQDV _F G- wSSLS SwZTJ\"><div class=\"FGwzt PaRlG\"><picture class=\"NhWcC _R mdkdE\" style=\"width: 32px; height: 32px;\"><img src=\"https://dynamic-media-cdn.tripadvisor.com/media/photo-o/0f/2f/66/64/heinzfield.jpg?w=100&amp;h=-1&amp;s=1\" width=\"100\" height=\"100\" alt=\"Acrisure Stadium\" loading=\"lazy\"></picture></div></a></div></div></div></div></div></div><div class=\"zpDvc\"><span class=\"biGQs _P fiohW fOtGX\"><a target=\"_self\" href=\"/Profile/AcrisureStadium\" class=\"BMQDV _F G- wSSLS SwZTJ FGwzt ukgoS\">Acrisure Stadium</a></span></div></div><div class=\"Sgbpo\"><div class=\"_T\"><div class=\"w _T\"><button class=\"BrOJk u j z _F wSSLS HuPlH Vonfv\" type=\"button\" aria-haspopup=\"menu\" aria-label=\"Open Options Menu\"><svg viewBox=\"0 0 24 24\" width=\"20px\" height=\"20px\" class=\"d Vb UmNoP\" x=\"0\" y=\"0\"><circle cx=\"12\" cy=\"19.4\" r=\"2.5\"></circle><circle cx=\"12\" cy=\"4.4\" r=\"2.5\"></circle><circle cx=\"12\" cy=\"11.9\" r=\"2.5\"></circle></svg></button></div></div></div></div><div class=\"_T FKffI\"><div class=\"fIrGe _T bgMZj\" style=\"line-break: normal; cursor: auto;\"><div class=\"biGQs _P pZUbB KxBGd\"><div class=\"biGQs _P pZUbB KxBGd\">Thank for your review!</div></div></div><div class=\"lszDU\" style=\"line-height: 22px;\"><button class=\"UikNM _G B- _S _T c G_ P0 wSSLS wnNQG\" type=\"button\"><span class=\"biGQs _P XWJSj Wb\">Read more</span><div class=\"CECjK\"><svg viewBox=\"0 0 25 24\" width=\"20px\" height=\"20px\" class=\"d Vb UmNoP\"><path fill-rule=\"evenodd\" clip-rule=\"evenodd\" d=\"M5.188 7.521l6.836 6.837 6.837-6.837 1.06 1.06-7.366 7.368a.75.75 0 01-1.061 0L4.127 8.582l1.06-1.06z\"></path></svg></div></button></div></div><div class=\"biGQs _P pZUbB xUqsL ncFvv osNWb\">Written September 9, 2022</div><div class=\"biGQs _P pZUbB osNWb\">This response is the subjective opinion of the management representative and not of Tripadvisor LLC.</div></div></div></div></div><div><hr class=\"RMdFe jHZoa vfszC\"><div class=\"uYzlj c\"><div class=\"lATJZ\"><div class=\"OvVFl j\"><div class=\"HdolS\"></div><div class=\"xkSty\"><div class=\"UCacc\"><a class=\"BrOJk u j z _F wSSLS tIqAi unMkR\" data-smoke-attr=\"pagination-next-arrow\" aria-label=\"Next page\" href=\"/Attraction_Review-g53449-d272116-Reviews-or10-Acrisure_Stadium_Tours-Pittsburgh_Pennsylvania.html\"><svg viewBox=\"0 0 24 24\" width=\"24px\" height=\"24px\" class=\"d Vb UmNoP\"><path d=\"M13.696 3.502a.624.624 0 00-.884.004l-.882.883a.624.624 0 000 .883l5.481 5.481H2.698a.624.624 0 00-.623.624v1.248c0 .346.279.623.623.625h14.714l-5.481 5.48a.624.624 0 000 .883l.882.883c.245.244.64.244.883 0l8.049-8.047a.646.646 0 000-.895l-8.049-8.048v-.004z\"></path></svg></a></div></div></div><div class=\"tgunb j\"><div class=\"gBgtO\"><div class=\"nsTKv\"><button class=\"BrOJk u j z _F wSSLS tIqAi iNBVo SSqtP\" type=\"button\" disabled=\"\" aria-label=\"1\"><span class=\"kLqdM\"><span class=\"biGQs _P ttuOS\">1</span></span></button></div><div class=\"nsTKv\"><a class=\"BrOJk u j z _F wSSLS tIqAi iNBVo\" aria-label=\"2\" href=\"/Attraction_Review-g53449-d272116-Reviews-or10-Acrisure_Stadium_Tours-Pittsburgh_Pennsylvania.html\"><span class=\"kLqdM\"><span class=\"biGQs _P ttuOS\">2</span></span></a></div><div class=\"nsTKv\"><div class=\"biGQs _P fiohW fOtGX\"><div class=\"NnGYf\">…</div></div></div></div></div></div></div><div class=\"uYzlj c\"><div class=\"biGQs _P pZUbB hmDzD\"><div class=\"Ci\">Showing results 1-10 of 2,079</div></div></div></div></div>"
   ]
  },
  {
   "cell_type": "code",
   "execution_count": 81,
   "id": "8bfd0a7e",
   "metadata": {},
   "outputs": [],
   "source": [
    "dic = {}"
   ]
  },
  {
   "cell_type": "code",
   "execution_count": 82,
   "id": "d748bf79",
   "metadata": {},
   "outputs": [
    {
     "data": {
      "text/plain": [
       "{'Tile': 'Acrisure Stadium Tours (Pittsburgh) - All You Need to Know BEFORE You Go',\n",
       " 'Rating': '4.5',\n",
       " 'Num_of_ratings': '2,172',\n",
       " 'Review': 'Amazingggg field '}"
      ]
     },
     "execution_count": 82,
     "metadata": {},
     "output_type": "execute_result"
    }
   ],
   "source": [
    "dic['Tile'] = title\n",
    "dic['Rating'] = rating\n",
    "dic['Num_of_ratings'] = num_review\n",
    "dic['Review'] = review\n",
    "dic"
   ]
  },
  {
   "cell_type": "code",
   "execution_count": 79,
   "id": "f7d24ac7",
   "metadata": {},
   "outputs": [
    {
     "data": {
      "text/html": [
       "<div>\n",
       "<style scoped>\n",
       "    .dataframe tbody tr th:only-of-type {\n",
       "        vertical-align: middle;\n",
       "    }\n",
       "\n",
       "    .dataframe tbody tr th {\n",
       "        vertical-align: top;\n",
       "    }\n",
       "\n",
       "    .dataframe thead th {\n",
       "        text-align: right;\n",
       "    }\n",
       "</style>\n",
       "<table border=\"1\" class=\"dataframe\">\n",
       "  <thead>\n",
       "    <tr style=\"text-align: right;\">\n",
       "      <th></th>\n",
       "      <th>Tile</th>\n",
       "      <th>Rating</th>\n",
       "      <th>Num_of_ratings</th>\n",
       "      <th>Review</th>\n",
       "    </tr>\n",
       "  </thead>\n",
       "  <tbody>\n",
       "    <tr>\n",
       "      <th>0</th>\n",
       "      <td>Acrisure Stadium Tours (Pittsburgh) - All You ...</td>\n",
       "      <td>4.5</td>\n",
       "      <td>2,172</td>\n",
       "      <td>I love the Pittsburgh Steelers this is a great...</td>\n",
       "    </tr>\n",
       "  </tbody>\n",
       "</table>\n",
       "</div>"
      ],
      "text/plain": [
       "                                                Tile Rating Num_of_ratings  \\\n",
       "0  Acrisure Stadium Tours (Pittsburgh) - All You ...    4.5          2,172   \n",
       "\n",
       "                                              Review  \n",
       "0  I love the Pittsburgh Steelers this is a great...  "
      ]
     },
     "execution_count": 79,
     "metadata": {},
     "output_type": "execute_result"
    }
   ],
   "source": [
    "df = pd.DataFrame([dic])\n",
    "df"
   ]
  },
  {
   "cell_type": "markdown",
   "id": "3c4412a6",
   "metadata": {},
   "source": [
    "-----------------------------"
   ]
  },
  {
   "cell_type": "code",
   "execution_count": 231,
   "id": "2f5d0ff2",
   "metadata": {},
   "outputs": [],
   "source": [
    "d = soup.find(\"div\", class_=\"LbPSX\")"
   ]
  },
  {
   "cell_type": "code",
   "execution_count": 280,
   "id": "6fd60498",
   "metadata": {},
   "outputs": [
    {
     "data": {
      "text/plain": [
       "'Acrisure Stadium'"
      ]
     },
     "execution_count": 280,
     "metadata": {},
     "output_type": "execute_result"
    }
   ],
   "source": [
    "Name_of_reviwer = d.find_all(\"div\", class_=\"zpDvc\")\n",
    "Name_of_reviwer[12].contents[0].contents[0].contents[0]"
   ]
  },
  {
   "cell_type": "code",
   "execution_count": 274,
   "id": "5c9eb8ad",
   "metadata": {},
   "outputs": [
    {
     "data": {
      "text/plain": [
       "'Scott'"
      ]
     },
     "execution_count": 274,
     "metadata": {},
     "output_type": "execute_result"
    }
   ],
   "source": [
    "Name_of_reviwer = d.find_all(\"span\", class_=\"biGQs _P fiohW fOtGX\")[9].contents[0].contents[0]\n",
    "Name_of_reviwer"
   ]
  },
  {
   "cell_type": "code",
   "execution_count": 273,
   "id": "f05b1c76",
   "metadata": {},
   "outputs": [
    {
     "data": {
      "text/plain": [
       "'4.0 of 5 bubbles'"
      ]
     },
     "execution_count": 273,
     "metadata": {},
     "output_type": "execute_result"
    }
   ],
   "source": [
    "rate =  d.find_all(\"svg\", class_=\"UctUV d H0\")[9]['aria-label']\n",
    "rate"
   ]
  },
  {
   "cell_type": "code",
   "execution_count": 281,
   "id": "e9202b7e",
   "metadata": {},
   "outputs": [
    {
     "data": {
      "text/plain": [
       "'Amazing tour!'"
      ]
     },
     "execution_count": 281,
     "metadata": {},
     "output_type": "execute_result"
    }
   ],
   "source": [
    "review_title = d.find_all(\"span\", class_=\"yCeTE\")[0].contents[0]\n",
    "review_title"
   ]
  },
  {
   "cell_type": "code",
   "execution_count": 236,
   "id": "e8318480",
   "metadata": {},
   "outputs": [
    {
     "data": {
      "text/plain": [
       "'Aug 2022'"
      ]
     },
     "execution_count": 236,
     "metadata": {},
     "output_type": "execute_result"
    }
   ],
   "source": [
    "date = d.find_all(\"div\", class_=\"RpeCd\")[0].contents[0]\n",
    "date"
   ]
  },
  {
   "cell_type": "code",
   "execution_count": 237,
   "id": "4c2f0523",
   "metadata": {},
   "outputs": [],
   "source": [
    "l = d.find_all(\"div\", class_=\"biGQs _P fiohW qWPrE ncFvv fOtGX\")"
   ]
  },
  {
   "cell_type": "code",
   "execution_count": 265,
   "id": "b5e3a8de",
   "metadata": {},
   "outputs": [
    {
     "data": {
      "text/plain": [
       "'Amazing tour!'"
      ]
     },
     "execution_count": 265,
     "metadata": {},
     "output_type": "execute_result"
    }
   ],
   "source": [
    "l[0].contents[0].contents[0].text"
   ]
  },
  {
   "cell_type": "code",
   "execution_count": 238,
   "id": "9ec28538",
   "metadata": {},
   "outputs": [
    {
     "data": {
      "text/plain": [
       "'Amazing tour!'"
      ]
     },
     "execution_count": 238,
     "metadata": {},
     "output_type": "execute_result"
    }
   ],
   "source": [
    "l[0].contents[0].contents[0].contents[0]"
   ]
  },
  {
   "cell_type": "code",
   "execution_count": 276,
   "id": "8d3551d7",
   "metadata": {},
   "outputs": [
    {
     "data": {
      "text/plain": [
       "'Thank you for your review!'"
      ]
     },
     "execution_count": 276,
     "metadata": {},
     "output_type": "execute_result"
    }
   ],
   "source": [
    "t = d.find_all(\"div\", class_=\"biGQs _P pZUbB KxBGd\")\n",
    "t[9].contents[0].text"
   ]
  },
  {
   "cell_type": "markdown",
   "id": "160885d3",
   "metadata": {},
   "source": [
    "<div class=\"biGQs _P pZUbB KxBGd\"><span class=\"yCeTE\">Hubby loves football.  And the Steelers are one of his top teams.  We booked this very cheap tour for fun and to see the stadium as it was summer and they were not playing.  Wow, just wow!  We were so impressed.  Our guide had worked there for a very long time.  He walked us all around, from lobby which has many very cool artefacts, to the back corridors, to the field.  ONTO the field, which was amazing.  Then up to see the field from a private lounge, and to the 2 lockerrooms.  <br><br>I am not sure that everyone gets the same extended tour, but it was excellent.  A great stop in the city.<br><br>Oh, and the gift shop is worth a stop.  They have everything from classic jerseys, to Christmas decorations, to kitchen utensils, etc.</span></div>"
   ]
  },
  {
   "cell_type": "code",
   "execution_count": 260,
   "id": "fa725451",
   "metadata": {},
   "outputs": [],
   "source": [
    "txt = t[0].contents[0].text"
   ]
  },
  {
   "cell_type": "code",
   "execution_count": 261,
   "id": "673a9e5c",
   "metadata": {},
   "outputs": [
    {
     "data": {
      "text/plain": [
       "{'Name': 'Isa b',\n",
       " 'Rating': '5.0 of 5 bubbles',\n",
       " 'Date and criteria': 'Aug 2022',\n",
       " 'Title': 'Amazing tour!',\n",
       " 'Review': 'Hubby loves football.  And the Steelers are one of his top teams.  We booked this very cheap tour for fun and to see the stadium as it was summer and they were not playing.  Wow, just wow!  We were so impressed.  Our guide had worked there for a very long time.  He walked us all around, from lobby which has many very cool artefacts, to the back corridors, to the field.  ONTO the field, which was amazing.  Then up to see the field from a private lounge, and to the 2 lockerrooms.  I am not sure that everyone gets the same extended tour, but it was excellent.  A great stop in the city.Oh, and the gift shop is worth a stop.  They have everything from classic jerseys, to Christmas decorations, to kitchen utensils, etc.'}"
      ]
     },
     "execution_count": 261,
     "metadata": {},
     "output_type": "execute_result"
    }
   ],
   "source": [
    "dic = {}\n",
    "dic['Name'] = Name_of_reviwer\n",
    "dic['Rating'] = rate\n",
    "dic['Date and criteria'] = date\n",
    "dic['Title'] = review_title\n",
    "dic['Review'] = txt\n",
    "dic"
   ]
  },
  {
   "cell_type": "code",
   "execution_count": 262,
   "id": "5f05907c",
   "metadata": {},
   "outputs": [
    {
     "name": "stderr",
     "output_type": "stream",
     "text": [
      "C:\\Users\\feras\\AppData\\Local\\Temp\\ipykernel_8420\\4017844051.py:1: FutureWarning: Passing a negative integer is deprecated in version 1.0 and will not be supported in future version. Instead, use None to not limit the column width.\n",
      "  pd.set_option('display.max_colwidth', -1)\n"
     ]
    },
    {
     "data": {
      "text/html": [
       "<div>\n",
       "<style scoped>\n",
       "    .dataframe tbody tr th:only-of-type {\n",
       "        vertical-align: middle;\n",
       "    }\n",
       "\n",
       "    .dataframe tbody tr th {\n",
       "        vertical-align: top;\n",
       "    }\n",
       "\n",
       "    .dataframe thead th {\n",
       "        text-align: right;\n",
       "    }\n",
       "</style>\n",
       "<table border=\"1\" class=\"dataframe\">\n",
       "  <thead>\n",
       "    <tr style=\"text-align: right;\">\n",
       "      <th></th>\n",
       "      <th>Name</th>\n",
       "      <th>Rating</th>\n",
       "      <th>Date and criteria</th>\n",
       "      <th>Title</th>\n",
       "      <th>Review</th>\n",
       "    </tr>\n",
       "  </thead>\n",
       "  <tbody>\n",
       "    <tr>\n",
       "      <th>0</th>\n",
       "      <td>Isa b</td>\n",
       "      <td>5.0 of 5 bubbles</td>\n",
       "      <td>Aug 2022</td>\n",
       "      <td>Amazing tour!</td>\n",
       "      <td>Hubby loves football.  And the Steelers are one of his top teams.  We booked this very cheap tour for fun and to see the stadium as it was summer and they were not playing.  Wow, just wow!  We were so impressed.  Our guide had worked there for a very long time.  He walked us all around, from lobby which has many very cool artefacts, to the back corridors, to the field.  ONTO the field, which was amazing.  Then up to see the field from a private lounge, and to the 2 lockerrooms.  I am not sure that everyone gets the same extended tour, but it was excellent.  A great stop in the city.Oh, and the gift shop is worth a stop.  They have everything from classic jerseys, to Christmas decorations, to kitchen utensils, etc.</td>\n",
       "    </tr>\n",
       "  </tbody>\n",
       "</table>\n",
       "</div>"
      ],
      "text/plain": [
       "    Name            Rating Date and criteria          Title  \\\n",
       "0  Isa b  5.0 of 5 bubbles  Aug 2022          Amazing tour!   \n",
       "\n",
       "                                                                                                                                                                                                                                                                                                                                                                                                                                                                                                                                                                                                                                                                                                                                                Review  \n",
       "0  Hubby loves football.  And the Steelers are one of his top teams.  We booked this very cheap tour for fun and to see the stadium as it was summer and they were not playing.  Wow, just wow!  We were so impressed.  Our guide had worked there for a very long time.  He walked us all around, from lobby which has many very cool artefacts, to the back corridors, to the field.  ONTO the field, which was amazing.  Then up to see the field from a private lounge, and to the 2 lockerrooms.  I am not sure that everyone gets the same extended tour, but it was excellent.  A great stop in the city.Oh, and the gift shop is worth a stop.  They have everything from classic jerseys, to Christmas decorations, to kitchen utensils, etc.  "
      ]
     },
     "execution_count": 262,
     "metadata": {},
     "output_type": "execute_result"
    }
   ],
   "source": [
    "pd.set_option('display.max_colwidth', -1)\n",
    "df = pd.DataFrame([dic])\n",
    "df"
   ]
  },
  {
   "cell_type": "markdown",
   "id": "bdd102c1",
   "metadata": {},
   "source": [
    "-----------------"
   ]
  },
  {
   "cell_type": "code",
   "execution_count": 227,
   "id": "1984349e",
   "metadata": {},
   "outputs": [
    {
     "data": {
      "text/plain": [
       "8"
      ]
     },
     "execution_count": 227,
     "metadata": {},
     "output_type": "execute_result"
    }
   ],
   "source": [
    "len(Name_of_reviwer)"
   ]
  },
  {
   "cell_type": "markdown",
   "id": "5a328d60",
   "metadata": {},
   "source": [
    "https://www.tripadvisor.com/Attraction_Review-g53449-d272116-Reviews-or10-Acrisure_Stadium_Tours-Pittsburgh_Pennsylvania.html"
   ]
  },
  {
   "cell_type": "markdown",
   "id": "577de552",
   "metadata": {},
   "source": [
    "https://www.tripadvisor.com/Attraction_Review-g53449-d272116-Reviews-Acrisure_Stadium_Tours-Pittsburgh_Pennsylvania.html"
   ]
  },
  {
   "cell_type": "code",
   "execution_count": 374,
   "id": "da515e5b",
   "metadata": {
    "collapsed": true,
    "jupyter": {
     "outputs_hidden": true
    }
   },
   "outputs": [
    {
     "data": {
      "text/html": [
       "<div>\n",
       "<style scoped>\n",
       "    .dataframe tbody tr th:only-of-type {\n",
       "        vertical-align: middle;\n",
       "    }\n",
       "\n",
       "    .dataframe tbody tr th {\n",
       "        vertical-align: top;\n",
       "    }\n",
       "\n",
       "    .dataframe thead th {\n",
       "        text-align: right;\n",
       "    }\n",
       "</style>\n",
       "<table border=\"1\" class=\"dataframe\">\n",
       "  <thead>\n",
       "    <tr style=\"text-align: right;\">\n",
       "      <th></th>\n",
       "      <th>Name</th>\n",
       "      <th>Rating</th>\n",
       "      <th>Date and criteria</th>\n",
       "      <th>Title</th>\n",
       "      <th>Review</th>\n",
       "    </tr>\n",
       "  </thead>\n",
       "  <tbody>\n",
       "    <tr>\n",
       "      <th>0</th>\n",
       "      <td>Flyingyinzer</td>\n",
       "      <td>5.0 of 5 bubbles</td>\n",
       "      <td>Oct 2017 • Business</td>\n",
       "      <td>Steelers victory!</td>\n",
       "      <td>I would think the title says it all, but the stunning Steelers victory made for a great night. I have to say that the indoor setting makes for a very comfortable experience, and I must say that as a Heinz Field veteran I’m mildly envious.</td>\n",
       "    </tr>\n",
       "    <tr>\n",
       "      <th>1</th>\n",
       "      <td>Bill B</td>\n",
       "      <td>4.0 of 5 bubbles</td>\n",
       "      <td>Oct 2017 • Friends</td>\n",
       "      <td>Decent</td>\n",
       "      <td>One of the better indoor stadiums. Convenient from the nicer hotels. Several shuttles to and from numerous locations. Newly remodeled.</td>\n",
       "    </tr>\n",
       "    <tr>\n",
       "      <th>2</th>\n",
       "      <td>Karen W</td>\n",
       "      <td>5.0 of 5 bubbles</td>\n",
       "      <td>Oct 2017 • Business</td>\n",
       "      <td>Great venue for a private event</td>\n",
       "      <td>Nice space, comfortable seating in a fun, open atmosphere. Staff was polite and engaging, food for the event was very good.</td>\n",
       "    </tr>\n",
       "    <tr>\n",
       "      <th>3</th>\n",
       "      <td>arthur k</td>\n",
       "      <td>4.0 of 5 bubbles</td>\n",
       "      <td>Sep 2017 • Couples</td>\n",
       "      <td>U2 concert</td>\n",
       "      <td>The concert was great and as an addd bonus got to see patti smith the venue is great the staff are very courteous and the amenities are plentiful</td>\n",
       "    </tr>\n",
       "    <tr>\n",
       "      <th>4</th>\n",
       "      <td>Foodiemom1</td>\n",
       "      <td>5.0 of 5 bubbles</td>\n",
       "      <td>Dec 2016 • Family</td>\n",
       "      <td>Bowl game in awesome Stadium</td>\n",
       "      <td>Great stadium with good views from everywhere and nice selection of concessions. Easy access to fun spots in the city before and after the game.</td>\n",
       "    </tr>\n",
       "    <tr>\n",
       "      <th>5</th>\n",
       "      <td>Corey C</td>\n",
       "      <td>5.0 of 5 bubbles</td>\n",
       "      <td>Sep 2016 • Friends</td>\n",
       "      <td>Detroit Lions home opener</td>\n",
       "      <td>First time going to Ford Field for a football game.I have to say the stadium is set up nicely for football games. I decided to treat myself and I got club seats for the game. The bars and restaurants at the club area are great. It was a little pricey for the drinks I was getting but I did go to have a good time so I was ok with it over-all.I would highly recommend sitting in club seats.</td>\n",
       "    </tr>\n",
       "    <tr>\n",
       "      <th>6</th>\n",
       "      <td>Fred S</td>\n",
       "      <td>5.0 of 5 bubbles</td>\n",
       "      <td>Oct 2015 • Friends</td>\n",
       "      <td>Great venue - wish the team were better</td>\n",
       "      <td>A beautiful site for football. Extremely comfortable seats. Everything was great except for the absolutely horrific play of the Lions.</td>\n",
       "    </tr>\n",
       "    <tr>\n",
       "      <th>7</th>\n",
       "      <td>slwintj</td>\n",
       "      <td>4.0 of 5 bubbles</td>\n",
       "      <td>Sep 2015 • Couples</td>\n",
       "      <td>Lions game</td>\n",
       "      <td>My first time inside ford field and I was impressed. I love the theme of the building. The ushers for the most part were very helpful. The one was kind of rude yelling at everyone to have their ticket stubs out. She even held up an elderly couple because the wife didn't have her ticket out, but her husband did. For a football game, the sound was great. I go back in October for a concert so we will see how I feel about it then! The food was a little lacking in choices but I did like the option of the bottomless drinks and popcorn.</td>\n",
       "    </tr>\n",
       "    <tr>\n",
       "      <th>8</th>\n",
       "      <td>Sabe M</td>\n",
       "      <td>5.0 of 5 bubbles</td>\n",
       "      <td>Nov 2014 • Friends</td>\n",
       "      <td>Had a ball!</td>\n",
       "      <td>I love the setup of the field. Even the bad seats aren't really bad. We had a great time at the game. We loved being in Detroit seeing the game and not in another city further out. We wish the Pistons were this close to downtown as well. The location of the stadium is awesome. Right off of Woodward, by Comerica Park and across from the Fox!! Great sight at night.</td>\n",
       "    </tr>\n",
       "    <tr>\n",
       "      <th>9</th>\n",
       "      <td>Carmen B</td>\n",
       "      <td>5.0 of 5 bubbles</td>\n",
       "      <td>NaN</td>\n",
       "      <td>Thank You Detroit!!!</td>\n",
       "      <td>Let me start by explaining that my visit to Ford Field was to root for my home team, the Buffalo Bills. The city of Detroit, the NFL, and the fans of the Detroit Lions were gracious enough to allow our team to play a home game there because of the severe storm that hit the Buffalo area. The stadium was beautiful, comfortable, and was an excellent place to enjoy a football game. The concessions were some of the best I've seen, especially the ribs at Billy Sims. Parking was convenient and close, mostly because we arrived very early. Seating was general admission, but we were able to sit together with many other Bills fans, along with some Lions fans. I can't say enough about how nice the Lions fans were and was pleasantly surprised that they would join us in rooting on the Bills. I have to say that the fantastic, indoor stadium has probably spoiled many Bills fans who may now call for one in Buffalo. Thanks again to Detroit for showing a tremendous amount of class and for being great hosts.</td>\n",
       "    </tr>\n",
       "  </tbody>\n",
       "</table>\n",
       "</div>"
      ],
      "text/plain": [
       "           Name            Rating    Date and criteria  \\\n",
       "0  Flyingyinzer  5.0 of 5 bubbles  Oct 2017 • Business   \n",
       "1  Bill B        4.0 of 5 bubbles  Oct 2017 • Friends    \n",
       "2  Karen W       5.0 of 5 bubbles  Oct 2017 • Business   \n",
       "3  arthur k      4.0 of 5 bubbles  Sep 2017 • Couples    \n",
       "4  Foodiemom1    5.0 of 5 bubbles  Dec 2016 • Family     \n",
       "5  Corey C       5.0 of 5 bubbles  Sep 2016 • Friends    \n",
       "6  Fred S        5.0 of 5 bubbles  Oct 2015 • Friends    \n",
       "7  slwintj       4.0 of 5 bubbles  Sep 2015 • Couples    \n",
       "8  Sabe M        5.0 of 5 bubbles  Nov 2014 • Friends    \n",
       "9  Carmen B      5.0 of 5 bubbles  NaN                   \n",
       "\n",
       "                                      Title  \\\n",
       "0  Steelers victory!                          \n",
       "1  Decent                                     \n",
       "2  Great venue for a private event            \n",
       "3  U2 concert                                 \n",
       "4  Bowl game in awesome Stadium               \n",
       "5  Detroit Lions home opener                  \n",
       "6  Great venue - wish the team were better    \n",
       "7  Lions game                                 \n",
       "8  Had a ball!                                \n",
       "9  Thank You Detroit!!!                       \n",
       "\n",
       "                                                                                                                                                                                                                                                                                                                                                                                                                                                                                                                                                                                                                                                                                                                                                                                                                                                                                                                                                                                                                                        Review  \n",
       "0  I would think the title says it all, but the stunning Steelers victory made for a great night. I have to say that the indoor setting makes for a very comfortable experience, and I must say that as a Heinz Field veteran I’m mildly envious.                                                                                                                                                                                                                                                                                                                                                                                                                                                                                                                                                                                                                                                                                                                                                                                               \n",
       "1  One of the better indoor stadiums. Convenient from the nicer hotels. Several shuttles to and from numerous locations. Newly remodeled.                                                                                                                                                                                                                                                                                                                                                                                                                                                                                                                                                                                                                                                                                                                                                                                                                                                                                                       \n",
       "2  Nice space, comfortable seating in a fun, open atmosphere. Staff was polite and engaging, food for the event was very good.                                                                                                                                                                                                                                                                                                                                                                                                                                                                                                                                                                                                                                                                                                                                                                                                                                                                                                                  \n",
       "3  The concert was great and as an addd bonus got to see patti smith the venue is great the staff are very courteous and the amenities are plentiful                                                                                                                                                                                                                                                                                                                                                                                                                                                                                                                                                                                                                                                                                                                                                                                                                                                                                            \n",
       "4  Great stadium with good views from everywhere and nice selection of concessions. Easy access to fun spots in the city before and after the game.                                                                                                                                                                                                                                                                                                                                                                                                                                                                                                                                                                                                                                                                                                                                                                                                                                                                                             \n",
       "5  First time going to Ford Field for a football game.I have to say the stadium is set up nicely for football games. I decided to treat myself and I got club seats for the game. The bars and restaurants at the club area are great. It was a little pricey for the drinks I was getting but I did go to have a good time so I was ok with it over-all.I would highly recommend sitting in club seats.                                                                                                                                                                                                                                                                                                                                                                                                                                                                                                                                                                                                                                        \n",
       "6  A beautiful site for football. Extremely comfortable seats. Everything was great except for the absolutely horrific play of the Lions.                                                                                                                                                                                                                                                                                                                                                                                                                                                                                                                                                                                                                                                                                                                                                                                                                                                                                                       \n",
       "7  My first time inside ford field and I was impressed. I love the theme of the building. The ushers for the most part were very helpful. The one was kind of rude yelling at everyone to have their ticket stubs out. She even held up an elderly couple because the wife didn't have her ticket out, but her husband did. For a football game, the sound was great. I go back in October for a concert so we will see how I feel about it then! The food was a little lacking in choices but I did like the option of the bottomless drinks and popcorn.                                                                                                                                                                                                                                                                                                                                                                                                                                                                                      \n",
       "8  I love the setup of the field. Even the bad seats aren't really bad. We had a great time at the game. We loved being in Detroit seeing the game and not in another city further out. We wish the Pistons were this close to downtown as well. The location of the stadium is awesome. Right off of Woodward, by Comerica Park and across from the Fox!! Great sight at night.                                                                                                                                                                                                                                                                                                                                                                                                                                                                                                                                                                                                                                                                \n",
       "9  Let me start by explaining that my visit to Ford Field was to root for my home team, the Buffalo Bills. The city of Detroit, the NFL, and the fans of the Detroit Lions were gracious enough to allow our team to play a home game there because of the severe storm that hit the Buffalo area. The stadium was beautiful, comfortable, and was an excellent place to enjoy a football game. The concessions were some of the best I've seen, especially the ribs at Billy Sims. Parking was convenient and close, mostly because we arrived very early. Seating was general admission, but we were able to sit together with many other Bills fans, along with some Lions fans. I can't say enough about how nice the Lions fans were and was pleasantly surprised that they would join us in rooting on the Bills. I have to say that the fantastic, indoor stadium has probably spoiled many Bills fans who may now call for one in Buffalo. Thanks again to Detroit for showing a tremendous amount of class and for being great hosts.  "
      ]
     },
     "execution_count": 374,
     "metadata": {},
     "output_type": "execute_result"
    }
   ],
   "source": [
    "df2 = pd.DataFrame(dict([ (k,pd.Series(v)) for k,v in dic.items() ]))\n",
    "df2"
   ]
  },
  {
   "cell_type": "markdown",
   "id": "63f93ad1",
   "metadata": {},
   "source": [
    "----------------------------------------"
   ]
  },
  {
   "cell_type": "markdown",
   "id": "f7de6d21",
   "metadata": {},
   "source": [
    "----------------------------------------------"
   ]
  },
  {
   "cell_type": "code",
   "execution_count": 377,
   "id": "336b40dc",
   "metadata": {},
   "outputs": [],
   "source": [
    "url = ['https://www.tripadvisor.com/Attraction_Review-g41573-d631090-Reviews-Gillette_Stadium-Foxborough_Massachusetts.html',\n",
    "      'https://www.tripadvisor.com/Attraction_Review-g41573-d631090-Reviews-or10-Gillette_Stadium-Foxborough_Massachusetts.html',\n",
    "      'https://www.tripadvisor.com/Attraction_Review-g41573-d631090-Reviews-or20-Gillette_Stadium-Foxborough_Massachusetts.html',\n",
    "      'https://www.tripadvisor.com/Attraction_Review-g41573-d631090-Reviews-or30-Gillette_Stadium-Foxborough_Massachusetts.html',\n",
    "      'https://www.tripadvisor.com/Attraction_Review-g41573-d631090-Reviews-or40-Gillette_Stadium-Foxborough_Massachusetts.html',\n",
    "      'https://www.tripadvisor.com/Attraction_Review-g41573-d631090-Reviews-or50-Gillette_Stadium-Foxborough_Massachusetts.html',\n",
    "      'https://www.tripadvisor.com/Attraction_Review-g41573-d631090-Reviews-or60-Gillette_Stadium-Foxborough_Massachusetts.html',\n",
    "      'https://www.tripadvisor.com/Attraction_Review-g41573-d631090-Reviews-or70-Gillette_Stadium-Foxborough_Massachusetts.html',\n",
    "      'https://www.tripadvisor.com/Attraction_Review-g41573-d631090-Reviews-or80-Gillette_Stadium-Foxborough_Massachusetts.html',\n",
    "      'https://www.tripadvisor.com/Attraction_Review-g41573-d631090-Reviews-or90-Gillette_Stadium-Foxborough_Massachusetts.html',\n",
    "      'https://www.tripadvisor.com/Attraction_Review-g41573-d631090-Reviews-or100-Gillette_Stadium-Foxborough_Massachusetts.html',\n",
    "      'https://www.tripadvisor.com/Attraction_Review-g41573-d631090-Reviews-or110-Gillette_Stadium-Foxborough_Massachusetts.html',\n",
    "      'https://www.tripadvisor.com/Attraction_Review-g41573-d631090-Reviews-or120-Gillette_Stadium-Foxborough_Massachusetts.html',\n",
    "      'https://www.tripadvisor.com/Attraction_Review-g41573-d631090-Reviews-or130-Gillette_Stadium-Foxborough_Massachusetts.html',\n",
    "      'https://www.tripadvisor.com/Attraction_Review-g41573-d631090-Reviews-or140-Gillette_Stadium-Foxborough_Massachusetts.html',\n",
    "      'https://www.tripadvisor.com/Attraction_Review-g41573-d631090-Reviews-or150-Gillette_Stadium-Foxborough_Massachusetts.html',\n",
    "      'https://www.tripadvisor.com/Attraction_Review-g41573-d631090-Reviews-or160-Gillette_Stadium-Foxborough_Massachusetts.html',\n",
    "      'https://www.tripadvisor.com/Attraction_Review-g41573-d631090-Reviews-or170-Gillette_Stadium-Foxborough_Massachusetts.html',\n",
    "      'https://www.tripadvisor.com/Attraction_Review-g41573-d631090-Reviews-or180-Gillette_Stadium-Foxborough_Massachusetts.html',\n",
    "      'https://www.tripadvisor.com/Attraction_Review-g41573-d631090-Reviews-or190-Gillette_Stadium-Foxborough_Massachusetts.html']"
   ]
  },
  {
   "cell_type": "code",
   "execution_count": 378,
   "id": "7b239b3b",
   "metadata": {},
   "outputs": [],
   "source": [
    "for ind, link in enumerate(url):\n",
    "    page = requests.get(link, headers={'User-Agent': \"Mozilla/5.0\"})\n",
    "    soup = BeautifulSoup(page.text, 'html.parser')\n",
    "    name_of_reviwer = []\n",
    "    reviewer_rate = []\n",
    "    review_date = []\n",
    "    review_title = []\n",
    "    review_text = []\n",
    "    d = soup.find(\"div\", class_=\"LbPSX\")\n",
    "    reviwer = d.find_all(\"div\", class_=\"zpDvc\")\n",
    "    rate =  d.find_all(\"svg\", class_=\"UctUV d H0\")\n",
    "    title = d.find_all(\"div\", class_=\"biGQs _P fiohW qWPrE ncFvv fOtGX\")\n",
    "    date = d.find_all(\"div\", class_=\"RpeCd\")\n",
    "    text =  d.find_all(\"div\", class_=\"biGQs _P pZUbB KxBGd\")\n",
    "    \n",
    "    length = len(reviwer)\n",
    "    length1 = len(rate)\n",
    "    length2 = len(date)\n",
    "    length3 = len(title)\n",
    "    length4 = len(text)\n",
    "    \n",
    "    for i in range(length):\n",
    "        #if reviwer[i].contents[0].contents[0].contents[0] == 'Acrisure Stadium':\n",
    "           # continue\n",
    "        #else:\n",
    "        name_of_reviwer.append(reviwer[i].contents[0].contents[0].contents[0])\n",
    "    for i in range(length1):\n",
    "        reviewer_rate.append(rate[i]['aria-label'])\n",
    "    for i in range(length2):      \n",
    "        review_date.append(date[i].contents[0])\n",
    "    for i in range(length3):\n",
    "        review_title.append(title[i].contents[0].contents[0].text)\n",
    "    for i in range(length4):\n",
    "        #if text[i].contents[0].text.startswith('Thank'):\n",
    "            #continue\n",
    "        #else:\n",
    "        review_text.append(text[i].contents[0].text)\n",
    "\n",
    "\n",
    "    dic = {}\n",
    "    dic['Name'] = name_of_reviwer\n",
    "    dic['Rating'] = reviewer_rate\n",
    "    dic['Date and criteria'] = review_date\n",
    "    dic['Title'] = review_title\n",
    "    dic['Review'] = review_text      \n",
    "        \n",
    "    df = pd.DataFrame(dict([ (k,pd.Series(v)) for k,v in dic.items() ]))\n",
    "    #df.to_excel('try.xlsx', sheet_name= str(ind))\n",
    "    with pd.ExcelWriter(str(ind)+'Gillette'+'.xlsx') as writer:  \n",
    "        df.to_excel(writer)"
   ]
  },
  {
   "cell_type": "code",
   "execution_count": 373,
   "id": "2b185756",
   "metadata": {
    "collapsed": true,
    "jupyter": {
     "outputs_hidden": true,
     "source_hidden": true
    }
   },
   "outputs": [
    {
     "data": {
      "text/plain": [
       "(10, 10, 9, 10, 10)"
      ]
     },
     "execution_count": 373,
     "metadata": {},
     "output_type": "execute_result"
    }
   ],
   "source": [
    "len(dic['Name']), len(dic['Rating']), len(dic['Date and criteria']), len(dic['Title']), len(dic['Review'])"
   ]
  },
  {
   "cell_type": "code",
   "execution_count": 345,
   "id": "37cbc0a5",
   "metadata": {
    "jupyter": {
     "source_hidden": true
    }
   },
   "outputs": [],
   "source": [
    "df = pd.DataFrame(dic)\n",
    "df;"
   ]
  },
  {
   "cell_type": "code",
   "execution_count": 344,
   "id": "d474f2f0",
   "metadata": {
    "jupyter": {
     "source_hidden": true
    }
   },
   "outputs": [],
   "source": [
    "df.to_excel('ford1.xlsx', sheet_name='1')"
   ]
  },
  {
   "cell_type": "code",
   "execution_count": 323,
   "id": "99e7ec84",
   "metadata": {
    "jupyter": {
     "source_hidden": true
    }
   },
   "outputs": [],
   "source": [
    "for link in url:\n",
    "    page = requests.get(link, headers={'User-Agent': \"Mozilla/5.0\"})\n",
    "    soup = BeautifulSoup(page.text, 'html.parser')\n",
    "    name_of_reviwer = []\n",
    "    reviewer_rate = []\n",
    "    review_date = []\n",
    "    review_title = []\n",
    "    review_text = []\n",
    "    d = soup.find(\"div\", class_=\"LbPSX\")\n",
    "    reviwer = d.find_all(\"div\", class_=\"zpDvc\")\n",
    "    rate =  d.find_all(\"svg\", class_=\"UctUV d H0\")\n",
    "    title = d.find_all(\"div\", class_=\"biGQs _P fiohW qWPrE ncFvv fOtGX\")\n",
    "    date = d.find_all(\"div\", class_=\"RpeCd\")\n",
    "    text =  d.find_all(\"div\", class_=\"biGQs _P pZUbB KxBGd\")\n",
    "    \n",
    "    length = len(reviwer)\n",
    "    length1 = len(rate)\n",
    "    length2 = len(date)\n",
    "    length3 = len(title)\n",
    "    length4 = len(text)\n",
    "    \n",
    "    for i in range(length):\n",
    "        if reviwer[i].contents[0].contents[0].contents[0] == 'Acrisure Stadium':\n",
    "            continue\n",
    "        else:\n",
    "            name_of_reviwer.append(reviwer[i].contents[0].contents[0].contents[0])\n",
    "    for i in range(length1):\n",
    "        reviewer_rate.append(rate[i]['aria-label'])\n",
    "    for i in range(length2):      \n",
    "        review_date.append(date[i].contents[0])\n",
    "    for i in range(length3):\n",
    "        review_title.append(title[i].contents[0].contents[0].text)\n",
    "    for i in range(length4):\n",
    "        if text[i].contents[0].text.startswith('Thank'):\n",
    "            continue\n",
    "        else:\n",
    "            review_text.append(text[i].contents[0].text)\n",
    "\n",
    "\n",
    "dic = {}\n",
    "dic['Name'] = name_of_reviwer\n",
    "dic['Rating'] = reviewer_rate\n",
    "dic['Date and criteria'] = review_date\n",
    "dic['Title'] = review_title\n",
    "dic['Review'] = review_text      \n",
    "        \n",
    "    "
   ]
  }
 ],
 "metadata": {
  "kernelspec": {
   "display_name": "Python 3 (ipykernel)",
   "language": "python",
   "name": "python3"
  },
  "language_info": {
   "codemirror_mode": {
    "name": "ipython",
    "version": 3
   },
   "file_extension": ".py",
   "mimetype": "text/x-python",
   "name": "python",
   "nbconvert_exporter": "python",
   "pygments_lexer": "ipython3",
   "version": "3.8.8"
  }
 },
 "nbformat": 4,
 "nbformat_minor": 5
}
